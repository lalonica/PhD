{
 "cells": [
  {
   "cell_type": "code",
   "execution_count": 1,
   "metadata": {
    "collapsed": false
   },
   "outputs": [
    {
     "name": "stdout",
     "output_type": "stream",
     "text": [
      "Once deleted, variables cannot be recovered. Proceed (y/[n])? y\n"
     ]
    }
   ],
   "source": [
    "%reset"
   ]
  },
  {
   "cell_type": "code",
   "execution_count": 3,
   "metadata": {
    "collapsed": true
   },
   "outputs": [],
   "source": [
    "from pandas import Series, DataFrame\n",
    "import pandas as pd\n",
    "import numpy as np\n",
    "import csv\n",
    "import math\n",
    "import matplotlib.pyplot as plt\n",
    "from scipy.signal import hilbert, chirp\n",
    "import scipy"
   ]
  },
  {
   "cell_type": "code",
   "execution_count": 4,
   "metadata": {
    "collapsed": false
   },
   "outputs": [],
   "source": [
    "c_dist = ['Timestamp','vIDa', 'vIDb', 'dist_ab', 'v_a_Type', 'v_a_Vel', 'v_a_Line', 'v_a_Pred', 'v_a_Foll']\n",
    "\n",
    "data_dist = pd.read_table('D:\\\\zzzLola\\\\PhD\\\\DataSet\\\\US101\\\\test\\\\dist_1000ts.txt', sep='\\t', header=None, names=c_dist)"
   ]
  },
  {
   "cell_type": "code",
   "execution_count": 5,
   "metadata": {
    "collapsed": true
   },
   "outputs": [],
   "source": [
    "c_vehic = ['vIDa', 'count','mean_vel']\n",
    "\n",
    "data_vehic = pd.read_table('D:\\\\zzzLola\\\\PhD\\\\DataSet\\\\US101\\\\test\\\\vehi_1000ts.txt', sep='\\t', header=None, names=c_vehic)"
   ]
  },
  {
   "cell_type": "code",
   "execution_count": 6,
   "metadata": {
    "collapsed": true
   },
   "outputs": [],
   "source": [
    "dataset = pd.merge(data_dist,data_vehic, on = 'vIDa')"
   ]
  },
  {
   "cell_type": "code",
   "execution_count": 7,
   "metadata": {
    "collapsed": false
   },
   "outputs": [
    {
     "data": {
      "text/html": [
       "<div>\n",
       "<table border=\"1\" class=\"dataframe\">\n",
       "  <thead>\n",
       "    <tr style=\"text-align: right;\">\n",
       "      <th></th>\n",
       "      <th>Timestamp</th>\n",
       "      <th>vIDa</th>\n",
       "      <th>vIDb</th>\n",
       "      <th>dist_ab</th>\n",
       "      <th>v_a_Type</th>\n",
       "      <th>v_a_Vel</th>\n",
       "      <th>v_a_Line</th>\n",
       "      <th>v_a_Pred</th>\n",
       "      <th>v_a_Foll</th>\n",
       "      <th>count</th>\n",
       "      <th>mean_vel</th>\n",
       "    </tr>\n",
       "  </thead>\n",
       "  <tbody>\n",
       "    <tr>\n",
       "      <th>0</th>\n",
       "      <td>1.118847e+12</td>\n",
       "      <td>1073</td>\n",
       "      <td>1077</td>\n",
       "      <td>26.760834</td>\n",
       "      <td>2</td>\n",
       "      <td>18.263616</td>\n",
       "      <td>2</td>\n",
       "      <td>0</td>\n",
       "      <td>1083</td>\n",
       "      <td>22</td>\n",
       "      <td>18.18894</td>\n",
       "    </tr>\n",
       "    <tr>\n",
       "      <th>1</th>\n",
       "      <td>1.118847e+12</td>\n",
       "      <td>1073</td>\n",
       "      <td>1080</td>\n",
       "      <td>9.739521</td>\n",
       "      <td>2</td>\n",
       "      <td>18.263616</td>\n",
       "      <td>2</td>\n",
       "      <td>0</td>\n",
       "      <td>1083</td>\n",
       "      <td>22</td>\n",
       "      <td>18.18894</td>\n",
       "    </tr>\n",
       "    <tr>\n",
       "      <th>2</th>\n",
       "      <td>1.118847e+12</td>\n",
       "      <td>1073</td>\n",
       "      <td>1081</td>\n",
       "      <td>19.198605</td>\n",
       "      <td>2</td>\n",
       "      <td>18.263616</td>\n",
       "      <td>2</td>\n",
       "      <td>0</td>\n",
       "      <td>1083</td>\n",
       "      <td>22</td>\n",
       "      <td>18.18894</td>\n",
       "    </tr>\n",
       "    <tr>\n",
       "      <th>3</th>\n",
       "      <td>1.118847e+12</td>\n",
       "      <td>1073</td>\n",
       "      <td>1082</td>\n",
       "      <td>20.679750</td>\n",
       "      <td>2</td>\n",
       "      <td>18.263616</td>\n",
       "      <td>2</td>\n",
       "      <td>0</td>\n",
       "      <td>1083</td>\n",
       "      <td>22</td>\n",
       "      <td>18.18894</td>\n",
       "    </tr>\n",
       "    <tr>\n",
       "      <th>4</th>\n",
       "      <td>1.118847e+12</td>\n",
       "      <td>1073</td>\n",
       "      <td>1083</td>\n",
       "      <td>56.396881</td>\n",
       "      <td>2</td>\n",
       "      <td>18.263616</td>\n",
       "      <td>2</td>\n",
       "      <td>0</td>\n",
       "      <td>1083</td>\n",
       "      <td>22</td>\n",
       "      <td>18.18894</td>\n",
       "    </tr>\n",
       "    <tr>\n",
       "      <th>5</th>\n",
       "      <td>1.118847e+12</td>\n",
       "      <td>1073</td>\n",
       "      <td>1084</td>\n",
       "      <td>40.510313</td>\n",
       "      <td>2</td>\n",
       "      <td>18.263616</td>\n",
       "      <td>2</td>\n",
       "      <td>0</td>\n",
       "      <td>1083</td>\n",
       "      <td>22</td>\n",
       "      <td>18.18894</td>\n",
       "    </tr>\n",
       "    <tr>\n",
       "      <th>6</th>\n",
       "      <td>1.118847e+12</td>\n",
       "      <td>1073</td>\n",
       "      <td>1086</td>\n",
       "      <td>56.592865</td>\n",
       "      <td>2</td>\n",
       "      <td>18.263616</td>\n",
       "      <td>2</td>\n",
       "      <td>0</td>\n",
       "      <td>1083</td>\n",
       "      <td>22</td>\n",
       "      <td>18.18894</td>\n",
       "    </tr>\n",
       "    <tr>\n",
       "      <th>7</th>\n",
       "      <td>1.118847e+12</td>\n",
       "      <td>1073</td>\n",
       "      <td>1087</td>\n",
       "      <td>19.093697</td>\n",
       "      <td>2</td>\n",
       "      <td>18.263616</td>\n",
       "      <td>2</td>\n",
       "      <td>0</td>\n",
       "      <td>1083</td>\n",
       "      <td>22</td>\n",
       "      <td>18.18894</td>\n",
       "    </tr>\n",
       "    <tr>\n",
       "      <th>8</th>\n",
       "      <td>1.118847e+12</td>\n",
       "      <td>1073</td>\n",
       "      <td>1088</td>\n",
       "      <td>83.171880</td>\n",
       "      <td>2</td>\n",
       "      <td>18.263616</td>\n",
       "      <td>2</td>\n",
       "      <td>0</td>\n",
       "      <td>1083</td>\n",
       "      <td>22</td>\n",
       "      <td>18.18894</td>\n",
       "    </tr>\n",
       "    <tr>\n",
       "      <th>9</th>\n",
       "      <td>1.118847e+12</td>\n",
       "      <td>1073</td>\n",
       "      <td>1089</td>\n",
       "      <td>15.309671</td>\n",
       "      <td>2</td>\n",
       "      <td>18.263616</td>\n",
       "      <td>2</td>\n",
       "      <td>0</td>\n",
       "      <td>1083</td>\n",
       "      <td>22</td>\n",
       "      <td>18.18894</td>\n",
       "    </tr>\n",
       "  </tbody>\n",
       "</table>\n",
       "</div>"
      ],
      "text/plain": [
       "      Timestamp  vIDa  vIDb    dist_ab  v_a_Type    v_a_Vel  v_a_Line  \\\n",
       "0  1.118847e+12  1073  1077  26.760834         2  18.263616         2   \n",
       "1  1.118847e+12  1073  1080   9.739521         2  18.263616         2   \n",
       "2  1.118847e+12  1073  1081  19.198605         2  18.263616         2   \n",
       "3  1.118847e+12  1073  1082  20.679750         2  18.263616         2   \n",
       "4  1.118847e+12  1073  1083  56.396881         2  18.263616         2   \n",
       "5  1.118847e+12  1073  1084  40.510313         2  18.263616         2   \n",
       "6  1.118847e+12  1073  1086  56.592865         2  18.263616         2   \n",
       "7  1.118847e+12  1073  1087  19.093697         2  18.263616         2   \n",
       "8  1.118847e+12  1073  1088  83.171880         2  18.263616         2   \n",
       "9  1.118847e+12  1073  1089  15.309671         2  18.263616         2   \n",
       "\n",
       "   v_a_Pred  v_a_Foll  count  mean_vel  \n",
       "0         0      1083     22  18.18894  \n",
       "1         0      1083     22  18.18894  \n",
       "2         0      1083     22  18.18894  \n",
       "3         0      1083     22  18.18894  \n",
       "4         0      1083     22  18.18894  \n",
       "5         0      1083     22  18.18894  \n",
       "6         0      1083     22  18.18894  \n",
       "7         0      1083     22  18.18894  \n",
       "8         0      1083     22  18.18894  \n",
       "9         0      1083     22  18.18894  "
      ]
     },
     "execution_count": 7,
     "metadata": {},
     "output_type": "execute_result"
    }
   ],
   "source": [
    "dataset['dist_ab'] = dataset.dist_ab * 0.3048\n",
    "dataset['v_a_Vel'] = dataset.v_a_Vel * 0.3048\n",
    "dataset['mean_vel'] = dataset.mean_vel * 0.3048\n",
    "dataset[:10]"
   ]
  },
  {
   "cell_type": "code",
   "execution_count": 8,
   "metadata": {
    "collapsed": true
   },
   "outputs": [],
   "source": [
    "dataset['delt_vel'] = dataset.v_a_Vel - dataset.mean_vel\n",
    "\n",
    "#dataset['delt_vel'] = delta_vel"
   ]
  },
  {
   "cell_type": "code",
   "execution_count": 9,
   "metadata": {
    "collapsed": false
   },
   "outputs": [
    {
     "data": {
      "text/html": [
       "<div>\n",
       "<table border=\"1\" class=\"dataframe\">\n",
       "  <thead>\n",
       "    <tr style=\"text-align: right;\">\n",
       "      <th></th>\n",
       "      <th>Timestamp</th>\n",
       "      <th>vIDa</th>\n",
       "      <th>vIDb</th>\n",
       "      <th>dist_ab</th>\n",
       "      <th>v_a_Type</th>\n",
       "      <th>v_a_Vel</th>\n",
       "      <th>v_a_Line</th>\n",
       "      <th>v_a_Pred</th>\n",
       "      <th>v_a_Foll</th>\n",
       "      <th>count</th>\n",
       "      <th>mean_vel</th>\n",
       "      <th>delt_vel</th>\n",
       "    </tr>\n",
       "  </thead>\n",
       "  <tbody>\n",
       "    <tr>\n",
       "      <th>0</th>\n",
       "      <td>1.118847e+12</td>\n",
       "      <td>1073</td>\n",
       "      <td>1077</td>\n",
       "      <td>26.760834</td>\n",
       "      <td>2</td>\n",
       "      <td>18.263616</td>\n",
       "      <td>2</td>\n",
       "      <td>0</td>\n",
       "      <td>1083</td>\n",
       "      <td>22</td>\n",
       "      <td>18.18894</td>\n",
       "      <td>0.074676</td>\n",
       "    </tr>\n",
       "    <tr>\n",
       "      <th>1</th>\n",
       "      <td>1.118847e+12</td>\n",
       "      <td>1073</td>\n",
       "      <td>1080</td>\n",
       "      <td>9.739521</td>\n",
       "      <td>2</td>\n",
       "      <td>18.263616</td>\n",
       "      <td>2</td>\n",
       "      <td>0</td>\n",
       "      <td>1083</td>\n",
       "      <td>22</td>\n",
       "      <td>18.18894</td>\n",
       "      <td>0.074676</td>\n",
       "    </tr>\n",
       "    <tr>\n",
       "      <th>2</th>\n",
       "      <td>1.118847e+12</td>\n",
       "      <td>1073</td>\n",
       "      <td>1081</td>\n",
       "      <td>19.198605</td>\n",
       "      <td>2</td>\n",
       "      <td>18.263616</td>\n",
       "      <td>2</td>\n",
       "      <td>0</td>\n",
       "      <td>1083</td>\n",
       "      <td>22</td>\n",
       "      <td>18.18894</td>\n",
       "      <td>0.074676</td>\n",
       "    </tr>\n",
       "    <tr>\n",
       "      <th>3</th>\n",
       "      <td>1.118847e+12</td>\n",
       "      <td>1073</td>\n",
       "      <td>1082</td>\n",
       "      <td>20.679750</td>\n",
       "      <td>2</td>\n",
       "      <td>18.263616</td>\n",
       "      <td>2</td>\n",
       "      <td>0</td>\n",
       "      <td>1083</td>\n",
       "      <td>22</td>\n",
       "      <td>18.18894</td>\n",
       "      <td>0.074676</td>\n",
       "    </tr>\n",
       "    <tr>\n",
       "      <th>4</th>\n",
       "      <td>1.118847e+12</td>\n",
       "      <td>1073</td>\n",
       "      <td>1083</td>\n",
       "      <td>56.396881</td>\n",
       "      <td>2</td>\n",
       "      <td>18.263616</td>\n",
       "      <td>2</td>\n",
       "      <td>0</td>\n",
       "      <td>1083</td>\n",
       "      <td>22</td>\n",
       "      <td>18.18894</td>\n",
       "      <td>0.074676</td>\n",
       "    </tr>\n",
       "    <tr>\n",
       "      <th>5</th>\n",
       "      <td>1.118847e+12</td>\n",
       "      <td>1073</td>\n",
       "      <td>1084</td>\n",
       "      <td>40.510313</td>\n",
       "      <td>2</td>\n",
       "      <td>18.263616</td>\n",
       "      <td>2</td>\n",
       "      <td>0</td>\n",
       "      <td>1083</td>\n",
       "      <td>22</td>\n",
       "      <td>18.18894</td>\n",
       "      <td>0.074676</td>\n",
       "    </tr>\n",
       "    <tr>\n",
       "      <th>6</th>\n",
       "      <td>1.118847e+12</td>\n",
       "      <td>1073</td>\n",
       "      <td>1086</td>\n",
       "      <td>56.592865</td>\n",
       "      <td>2</td>\n",
       "      <td>18.263616</td>\n",
       "      <td>2</td>\n",
       "      <td>0</td>\n",
       "      <td>1083</td>\n",
       "      <td>22</td>\n",
       "      <td>18.18894</td>\n",
       "      <td>0.074676</td>\n",
       "    </tr>\n",
       "    <tr>\n",
       "      <th>7</th>\n",
       "      <td>1.118847e+12</td>\n",
       "      <td>1073</td>\n",
       "      <td>1087</td>\n",
       "      <td>19.093697</td>\n",
       "      <td>2</td>\n",
       "      <td>18.263616</td>\n",
       "      <td>2</td>\n",
       "      <td>0</td>\n",
       "      <td>1083</td>\n",
       "      <td>22</td>\n",
       "      <td>18.18894</td>\n",
       "      <td>0.074676</td>\n",
       "    </tr>\n",
       "    <tr>\n",
       "      <th>8</th>\n",
       "      <td>1.118847e+12</td>\n",
       "      <td>1073</td>\n",
       "      <td>1088</td>\n",
       "      <td>83.171880</td>\n",
       "      <td>2</td>\n",
       "      <td>18.263616</td>\n",
       "      <td>2</td>\n",
       "      <td>0</td>\n",
       "      <td>1083</td>\n",
       "      <td>22</td>\n",
       "      <td>18.18894</td>\n",
       "      <td>0.074676</td>\n",
       "    </tr>\n",
       "    <tr>\n",
       "      <th>9</th>\n",
       "      <td>1.118847e+12</td>\n",
       "      <td>1073</td>\n",
       "      <td>1089</td>\n",
       "      <td>15.309671</td>\n",
       "      <td>2</td>\n",
       "      <td>18.263616</td>\n",
       "      <td>2</td>\n",
       "      <td>0</td>\n",
       "      <td>1083</td>\n",
       "      <td>22</td>\n",
       "      <td>18.18894</td>\n",
       "      <td>0.074676</td>\n",
       "    </tr>\n",
       "  </tbody>\n",
       "</table>\n",
       "</div>"
      ],
      "text/plain": [
       "      Timestamp  vIDa  vIDb    dist_ab  v_a_Type    v_a_Vel  v_a_Line  \\\n",
       "0  1.118847e+12  1073  1077  26.760834         2  18.263616         2   \n",
       "1  1.118847e+12  1073  1080   9.739521         2  18.263616         2   \n",
       "2  1.118847e+12  1073  1081  19.198605         2  18.263616         2   \n",
       "3  1.118847e+12  1073  1082  20.679750         2  18.263616         2   \n",
       "4  1.118847e+12  1073  1083  56.396881         2  18.263616         2   \n",
       "5  1.118847e+12  1073  1084  40.510313         2  18.263616         2   \n",
       "6  1.118847e+12  1073  1086  56.592865         2  18.263616         2   \n",
       "7  1.118847e+12  1073  1087  19.093697         2  18.263616         2   \n",
       "8  1.118847e+12  1073  1088  83.171880         2  18.263616         2   \n",
       "9  1.118847e+12  1073  1089  15.309671         2  18.263616         2   \n",
       "\n",
       "   v_a_Pred  v_a_Foll  count  mean_vel  delt_vel  \n",
       "0         0      1083     22  18.18894  0.074676  \n",
       "1         0      1083     22  18.18894  0.074676  \n",
       "2         0      1083     22  18.18894  0.074676  \n",
       "3         0      1083     22  18.18894  0.074676  \n",
       "4         0      1083     22  18.18894  0.074676  \n",
       "5         0      1083     22  18.18894  0.074676  \n",
       "6         0      1083     22  18.18894  0.074676  \n",
       "7         0      1083     22  18.18894  0.074676  \n",
       "8         0      1083     22  18.18894  0.074676  \n",
       "9         0      1083     22  18.18894  0.074676  "
      ]
     },
     "execution_count": 9,
     "metadata": {},
     "output_type": "execute_result"
    }
   ],
   "source": [
    "dataset[:10]"
   ]
  },
  {
   "cell_type": "code",
   "execution_count": 10,
   "metadata": {
    "collapsed": false
   },
   "outputs": [],
   "source": [
    "np.savetxt('D:\\\\zzzLola\\\\PhD\\\\DataSet\\\\US101\\\\test\\\\dataset.txt',dataset, fmt='%.10e', delimiter='\\t', newline='\\n')"
   ]
  },
  {
   "cell_type": "code",
   "execution_count": 10,
   "metadata": {
    "collapsed": false,
    "scrolled": true
   },
   "outputs": [
    {
     "data": {
      "text/plain": [
       "pandas.core.frame.DataFrame"
      ]
     },
     "execution_count": 10,
     "metadata": {},
     "output_type": "execute_result"
    }
   ],
   "source": [
    "type(dataset)"
   ]
  },
  {
   "cell_type": "code",
   "execution_count": 11,
   "metadata": {
    "collapsed": false
   },
   "outputs": [
    {
     "ename": "NameError",
     "evalue": "name 't' is not defined",
     "output_type": "error",
     "traceback": [
      "\u001b[1;31m---------------------------------------------------------------------------\u001b[0m",
      "\u001b[1;31mNameError\u001b[0m                                 Traceback (most recent call last)",
      "\u001b[1;32m<ipython-input-11-14ac1cb05b5a>\u001b[0m in \u001b[0;36m<module>\u001b[1;34m()\u001b[0m\n\u001b[1;32m----> 1\u001b[1;33m \u001b[1;32mdel\u001b[0m \u001b[0mt\u001b[0m\u001b[1;33m\u001b[0m\u001b[0m\n\u001b[0m",
      "\u001b[1;31mNameError\u001b[0m: name 't' is not defined"
     ]
    }
   ],
   "source": [
    "del t"
   ]
  },
  {
   "cell_type": "code",
   "execution_count": null,
   "metadata": {
    "collapsed": false
   },
   "outputs": [],
   "source": [
    "dataset.groupby(['Timestamp', 'vIDa']).mean()"
   ]
  },
  {
   "cell_type": "code",
   "execution_count": null,
   "metadata": {
    "collapsed": false
   },
   "outputs": [],
   "source": [
    "v1280 = dataset.loc[dataset['vIDa'] == 1280]"
   ]
  },
  {
   "cell_type": "code",
   "execution_count": null,
   "metadata": {
    "collapsed": false
   },
   "outputs": [],
   "source": [
    "v1280.groupby('v_a_Line').count()"
   ]
  },
  {
   "cell_type": "code",
   "execution_count": null,
   "metadata": {
    "collapsed": false
   },
   "outputs": [],
   "source": [
    "for key, grp in dataset.groupby(['Timestamp']):\n",
    "    plt.plot(grp['vIDa'], label=key)\n",
    "    grp['mean_vel'] = pd.rolling_mean(grp['vIDa'], window=5)    \n",
    "    plt.plot(grp['mean_vel'], label='rolling ({k})'.format(k=key))\n",
    "plt.legend(loc='best')    \n",
    "plt.show()"
   ]
  },
  {
   "cell_type": "code",
   "execution_count": 40,
   "metadata": {
    "collapsed": false
   },
   "outputs": [
    {
     "ename": "NameError",
     "evalue": "global name 'percentage' is not defined",
     "output_type": "error",
     "traceback": [
      "\u001b[1;31m---------------------------------------------------------------------------\u001b[0m",
      "\u001b[1;31mNameError\u001b[0m                                 Traceback (most recent call last)",
      "\u001b[1;32m<ipython-input-40-45b2189a6a0b>\u001b[0m in \u001b[0;36m<module>\u001b[1;34m()\u001b[0m\n\u001b[1;32m----> 1\u001b[1;33m \u001b[0mdataset\u001b[0m\u001b[1;33m.\u001b[0m\u001b[0mgroupby\u001b[0m\u001b[1;33m(\u001b[0m\u001b[1;33m[\u001b[0m\u001b[1;34m'vIDa'\u001b[0m\u001b[1;33m]\u001b[0m\u001b[1;33m)\u001b[0m\u001b[1;33m.\u001b[0m\u001b[0mapply\u001b[0m\u001b[1;33m(\u001b[0m\u001b[0mtoeach_category\u001b[0m\u001b[1;33m)\u001b[0m\u001b[1;33m\u001b[0m\u001b[0m\n\u001b[0m",
      "\u001b[1;32mC:\\Anaconda2\\lib\\site-packages\\pandas\\core\\groupby.pyc\u001b[0m in \u001b[0;36mapply\u001b[1;34m(self, func, *args, **kwargs)\u001b[0m\n\u001b[0;32m    713\u001b[0m         \u001b[1;31m# ignore SettingWithCopy here in case the user mutates\u001b[0m\u001b[1;33m\u001b[0m\u001b[1;33m\u001b[0m\u001b[0m\n\u001b[0;32m    714\u001b[0m         \u001b[1;32mwith\u001b[0m \u001b[0moption_context\u001b[0m\u001b[1;33m(\u001b[0m\u001b[1;34m'mode.chained_assignment'\u001b[0m\u001b[1;33m,\u001b[0m\u001b[0mNone\u001b[0m\u001b[1;33m)\u001b[0m\u001b[1;33m:\u001b[0m\u001b[1;33m\u001b[0m\u001b[0m\n\u001b[1;32m--> 715\u001b[1;33m             \u001b[1;32mreturn\u001b[0m \u001b[0mself\u001b[0m\u001b[1;33m.\u001b[0m\u001b[0m_python_apply_general\u001b[0m\u001b[1;33m(\u001b[0m\u001b[0mf\u001b[0m\u001b[1;33m)\u001b[0m\u001b[1;33m\u001b[0m\u001b[0m\n\u001b[0m\u001b[0;32m    716\u001b[0m \u001b[1;33m\u001b[0m\u001b[0m\n\u001b[0;32m    717\u001b[0m     \u001b[1;32mdef\u001b[0m \u001b[0m_python_apply_general\u001b[0m\u001b[1;33m(\u001b[0m\u001b[0mself\u001b[0m\u001b[1;33m,\u001b[0m \u001b[0mf\u001b[0m\u001b[1;33m)\u001b[0m\u001b[1;33m:\u001b[0m\u001b[1;33m\u001b[0m\u001b[0m\n",
      "\u001b[1;32mC:\\Anaconda2\\lib\\site-packages\\pandas\\core\\groupby.pyc\u001b[0m in \u001b[0;36m_python_apply_general\u001b[1;34m(self, f)\u001b[0m\n\u001b[0;32m    717\u001b[0m     \u001b[1;32mdef\u001b[0m \u001b[0m_python_apply_general\u001b[0m\u001b[1;33m(\u001b[0m\u001b[0mself\u001b[0m\u001b[1;33m,\u001b[0m \u001b[0mf\u001b[0m\u001b[1;33m)\u001b[0m\u001b[1;33m:\u001b[0m\u001b[1;33m\u001b[0m\u001b[0m\n\u001b[0;32m    718\u001b[0m         keys, values, mutated = self.grouper.apply(f, self._selected_obj,\n\u001b[1;32m--> 719\u001b[1;33m                                                    self.axis)\n\u001b[0m\u001b[0;32m    720\u001b[0m \u001b[1;33m\u001b[0m\u001b[0m\n\u001b[0;32m    721\u001b[0m         return self._wrap_applied_output(keys, values,\n",
      "\u001b[1;32mC:\\Anaconda2\\lib\\site-packages\\pandas\\core\\groupby.pyc\u001b[0m in \u001b[0;36mapply\u001b[1;34m(self, f, data, axis)\u001b[0m\n\u001b[0;32m   1404\u001b[0m             \u001b[1;31m# group might be modified\u001b[0m\u001b[1;33m\u001b[0m\u001b[1;33m\u001b[0m\u001b[0m\n\u001b[0;32m   1405\u001b[0m             \u001b[0mgroup_axes\u001b[0m \u001b[1;33m=\u001b[0m \u001b[0m_get_axes\u001b[0m\u001b[1;33m(\u001b[0m\u001b[0mgroup\u001b[0m\u001b[1;33m)\u001b[0m\u001b[1;33m\u001b[0m\u001b[0m\n\u001b[1;32m-> 1406\u001b[1;33m             \u001b[0mres\u001b[0m \u001b[1;33m=\u001b[0m \u001b[0mf\u001b[0m\u001b[1;33m(\u001b[0m\u001b[0mgroup\u001b[0m\u001b[1;33m)\u001b[0m\u001b[1;33m\u001b[0m\u001b[0m\n\u001b[0m\u001b[0;32m   1407\u001b[0m             \u001b[1;32mif\u001b[0m \u001b[1;32mnot\u001b[0m \u001b[0m_is_indexed_like\u001b[0m\u001b[1;33m(\u001b[0m\u001b[0mres\u001b[0m\u001b[1;33m,\u001b[0m \u001b[0mgroup_axes\u001b[0m\u001b[1;33m)\u001b[0m\u001b[1;33m:\u001b[0m\u001b[1;33m\u001b[0m\u001b[0m\n\u001b[0;32m   1408\u001b[0m                 \u001b[0mmutated\u001b[0m \u001b[1;33m=\u001b[0m \u001b[0mTrue\u001b[0m\u001b[1;33m\u001b[0m\u001b[0m\n",
      "\u001b[1;32mC:\\Anaconda2\\lib\\site-packages\\pandas\\core\\groupby.pyc\u001b[0m in \u001b[0;36mf\u001b[1;34m(g)\u001b[0m\n\u001b[0;32m    709\u001b[0m         \u001b[1;33m@\u001b[0m\u001b[0mwraps\u001b[0m\u001b[1;33m(\u001b[0m\u001b[0mfunc\u001b[0m\u001b[1;33m)\u001b[0m\u001b[1;33m\u001b[0m\u001b[0m\n\u001b[0;32m    710\u001b[0m         \u001b[1;32mdef\u001b[0m \u001b[0mf\u001b[0m\u001b[1;33m(\u001b[0m\u001b[0mg\u001b[0m\u001b[1;33m)\u001b[0m\u001b[1;33m:\u001b[0m\u001b[1;33m\u001b[0m\u001b[0m\n\u001b[1;32m--> 711\u001b[1;33m             \u001b[1;32mreturn\u001b[0m \u001b[0mfunc\u001b[0m\u001b[1;33m(\u001b[0m\u001b[0mg\u001b[0m\u001b[1;33m,\u001b[0m \u001b[1;33m*\u001b[0m\u001b[0margs\u001b[0m\u001b[1;33m,\u001b[0m \u001b[1;33m**\u001b[0m\u001b[0mkwargs\u001b[0m\u001b[1;33m)\u001b[0m\u001b[1;33m\u001b[0m\u001b[0m\n\u001b[0m\u001b[0;32m    712\u001b[0m \u001b[1;33m\u001b[0m\u001b[0m\n\u001b[0;32m    713\u001b[0m         \u001b[1;31m# ignore SettingWithCopy here in case the user mutates\u001b[0m\u001b[1;33m\u001b[0m\u001b[1;33m\u001b[0m\u001b[0m\n",
      "\u001b[1;32m<ipython-input-37-3096143b616e>\u001b[0m in \u001b[0;36mtoeach_category\u001b[1;34m(subf)\u001b[0m\n\u001b[0;32m      1\u001b[0m \u001b[1;32mdef\u001b[0m \u001b[0mtoeach_category\u001b[0m\u001b[1;33m(\u001b[0m\u001b[0msubf\u001b[0m\u001b[1;33m)\u001b[0m\u001b[1;33m:\u001b[0m\u001b[1;33m\u001b[0m\u001b[0m\n\u001b[1;32m----> 2\u001b[1;33m     \u001b[0mresult\u001b[0m \u001b[1;33m=\u001b[0m \u001b[0msubf\u001b[0m\u001b[1;33m[\u001b[0m\u001b[1;33m[\u001b[0m\u001b[1;34m'Timestamp'\u001b[0m\u001b[1;33m]\u001b[0m\u001b[1;33m]\u001b[0m\u001b[1;33m.\u001b[0m\u001b[0mapplymap\u001b[0m\u001b[1;33m(\u001b[0m\u001b[0mpercentage\u001b[0m\u001b[1;33m)\u001b[0m\u001b[1;33m\u001b[0m\u001b[0m\n\u001b[0m",
      "\u001b[1;31mNameError\u001b[0m: global name 'percentage' is not defined"
     ]
    }
   ],
   "source": []
  },
  {
   "cell_type": "code",
   "execution_count": null,
   "metadata": {
    "collapsed": true
   },
   "outputs": [],
   "source": []
  }
 ],
 "metadata": {
  "kernelspec": {
   "display_name": "Python 2",
   "language": "python",
   "name": "python2"
  },
  "language_info": {
   "codemirror_mode": {
    "name": "ipython",
    "version": 2
   },
   "file_extension": ".py",
   "mimetype": "text/x-python",
   "name": "python",
   "nbconvert_exporter": "python",
   "pygments_lexer": "ipython2",
   "version": "2.7.11"
  }
 },
 "nbformat": 4,
 "nbformat_minor": 0
}
