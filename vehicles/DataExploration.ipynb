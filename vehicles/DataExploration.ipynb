{
 "cells": [
  {
   "cell_type": "code",
   "execution_count": 5,
   "metadata": {
    "collapsed": false
   },
   "outputs": [
    {
     "data": {
      "text/plain": [
       "<matplotlib.axes._subplots.AxesSubplot at 0x48170fd0>"
      ]
     },
     "execution_count": 5,
     "metadata": {},
     "output_type": "execute_result"
    }
   ],
   "source": [
    "import pandas as pd\n",
    "import numpy as np\n",
    "import csv\n",
    "import matplotlib as plt\n",
    "\n",
    "\n",
    "c_names = ['vID', 'frID', 'tFr','Timestamp', 'localX', 'localY', 'globalX','globalY', 'vLenght', 'vWidth', 'vType', 'veloc','accel', 'line', 'pred', 'foll', 'spac', 'headway', 'dateTime']\n",
    "\n",
    "data = pd.read_table('D:\\\\zzzLola\\\\PhD\\\\DataSet\\\\US101\\\\test\\\\portion1Set2DT.txt', sep='\\t', header=None, names=c_names)\n",
    "\n",
    "# Stast description of the whole dataset.\n",
    "desc = data.describe()\n",
    "\n",
    "##++++++++++++Example\n",
    "# data.groupby(['col5', 'col2']).size().groupby(level=1).max()\n",
    "\n",
    "#Mean of values by vehicle Id and DataTime\n",
    "mean = data.groupby(['vID', 'dateTime']).mean()\n",
    "\n",
    "#Number of vehicles\n",
    "num_v = data.groupby(['vID']).size()\n",
    "\n",
    "#Number of registers by timestamp\n",
    "ts_match = data.groupby(['Timestamp']).size()\n",
    "ts_match_max = data.groupby(['Timestamp']).size().max()\n",
    "ts_match_min = data.groupby(['Timestamp']).size().min()\n",
    "ts_match_mean = data.groupby(['Timestamp']).size().mean()\n",
    "\n",
    "#number of register by dataTime\n",
    "dt_match = data.groupby(['dateTime']).size()\n",
    "dt_match_max = data.groupby(['dateTime']).size().max()\n",
    "dt_match_min = data.groupby(['dateTime']).size().min()\n",
    "dt_match_mean = data.groupby(['dateTime']).size().mean()\n",
    "\n",
    "#print (desc)\n",
    "#print (mean [:10])\n",
    "\n",
    "data.plot(kind='barh', stacked=True)\n",
    "\n",
    "#print(num_v)\n",
    "\n",
    "#print (ts_match_max, ts_match_min, ts_match_mean)\n",
    "#print (dt_match_max, dt_match_min, dt_match_mean)\n"
   ]
  },
  {
   "cell_type": "code",
   "execution_count": 6,
   "metadata": {
    "collapsed": false
   },
   "outputs": [
    {
     "ename": "NameError",
     "evalue": "name 'ts' is not defined",
     "output_type": "error",
     "traceback": [
      "\u001b[1;31m---------------------------------------------------------------------------\u001b[0m",
      "\u001b[1;31mNameError\u001b[0m                                 Traceback (most recent call last)",
      "\u001b[1;32m<ipython-input-6-03d51c611a78>\u001b[0m in \u001b[0;36m<module>\u001b[1;34m()\u001b[0m\n\u001b[1;32m----> 1\u001b[1;33m \u001b[0mdf\u001b[0m \u001b[1;33m=\u001b[0m \u001b[0mpd\u001b[0m\u001b[1;33m.\u001b[0m\u001b[0mDataFrame\u001b[0m\u001b[1;33m(\u001b[0m\u001b[0mnp\u001b[0m\u001b[1;33m.\u001b[0m\u001b[0mrandom\u001b[0m\u001b[1;33m.\u001b[0m\u001b[0mrandn\u001b[0m\u001b[1;33m(\u001b[0m\u001b[1;36m1000\u001b[0m\u001b[1;33m,\u001b[0m \u001b[1;36m4\u001b[0m\u001b[1;33m)\u001b[0m\u001b[1;33m,\u001b[0m \u001b[0mindex\u001b[0m\u001b[1;33m=\u001b[0m\u001b[0mts\u001b[0m\u001b[1;33m.\u001b[0m\u001b[0mindex\u001b[0m\u001b[1;33m,\u001b[0m \u001b[0mcolumns\u001b[0m\u001b[1;33m=\u001b[0m\u001b[0mlist\u001b[0m\u001b[1;33m(\u001b[0m\u001b[1;34m'ABCD'\u001b[0m\u001b[1;33m)\u001b[0m\u001b[1;33m)\u001b[0m\u001b[1;33m\u001b[0m\u001b[0m\n\u001b[0m\u001b[0;32m      2\u001b[0m \u001b[0mdf\u001b[0m \u001b[1;33m=\u001b[0m \u001b[0mdf\u001b[0m\u001b[1;33m.\u001b[0m\u001b[0mcumsum\u001b[0m\u001b[1;33m(\u001b[0m\u001b[1;33m)\u001b[0m\u001b[1;33m\u001b[0m\u001b[0m\n\u001b[0;32m      3\u001b[0m \u001b[0mplt\u001b[0m\u001b[1;33m.\u001b[0m\u001b[0mfigure\u001b[0m\u001b[1;33m(\u001b[0m\u001b[1;33m)\u001b[0m\u001b[1;33m;\u001b[0m \u001b[0mdf\u001b[0m\u001b[1;33m.\u001b[0m\u001b[0mplot\u001b[0m\u001b[1;33m(\u001b[0m\u001b[1;33m)\u001b[0m\u001b[1;33m;\u001b[0m\u001b[1;33m\u001b[0m\u001b[0m\n",
      "\u001b[1;31mNameError\u001b[0m: name 'ts' is not defined"
     ]
    }
   ],
   "source": [
    "df = pd.DataFrame(np.random.randn(1000, 4), index=ts.index, columns=list('ABCD'))\n",
    "df = df.cumsum()\n",
    "plt.figure(); df.plot();"
   ]
  },
  {
   "cell_type": "code",
   "execution_count": 7,
   "metadata": {
    "collapsed": false
   },
   "outputs": [
    {
     "ename": "NameError",
     "evalue": "name 'ts' is not defined",
     "output_type": "error",
     "traceback": [
      "\u001b[1;31m---------------------------------------------------------------------------\u001b[0m",
      "\u001b[1;31mNameError\u001b[0m                                 Traceback (most recent call last)",
      "\u001b[1;32m<ipython-input-7-c7c03188f057>\u001b[0m in \u001b[0;36m<module>\u001b[1;34m()\u001b[0m\n\u001b[0;32m      4\u001b[0m \u001b[1;32mimport\u001b[0m \u001b[0mmatplotlib\u001b[0m \u001b[1;32mas\u001b[0m \u001b[0mplt\u001b[0m\u001b[1;33m\u001b[0m\u001b[0m\n\u001b[0;32m      5\u001b[0m \u001b[1;33m\u001b[0m\u001b[0m\n\u001b[1;32m----> 6\u001b[1;33m \u001b[0mdf\u001b[0m \u001b[1;33m=\u001b[0m \u001b[0mpd\u001b[0m\u001b[1;33m.\u001b[0m\u001b[0mDataFrame\u001b[0m\u001b[1;33m(\u001b[0m\u001b[0mnp\u001b[0m\u001b[1;33m.\u001b[0m\u001b[0mrandom\u001b[0m\u001b[1;33m.\u001b[0m\u001b[0mrandn\u001b[0m\u001b[1;33m(\u001b[0m\u001b[1;36m1000\u001b[0m\u001b[1;33m,\u001b[0m \u001b[1;36m4\u001b[0m\u001b[1;33m)\u001b[0m\u001b[1;33m,\u001b[0m \u001b[0mindex\u001b[0m\u001b[1;33m=\u001b[0m\u001b[0mts\u001b[0m\u001b[1;33m.\u001b[0m\u001b[0mindex\u001b[0m\u001b[1;33m,\u001b[0m \u001b[0mcolumns\u001b[0m\u001b[1;33m=\u001b[0m\u001b[0mlist\u001b[0m\u001b[1;33m(\u001b[0m\u001b[1;34m'ABCD'\u001b[0m\u001b[1;33m)\u001b[0m\u001b[1;33m)\u001b[0m\u001b[1;33m\u001b[0m\u001b[0m\n\u001b[0m\u001b[0;32m      7\u001b[0m \u001b[0mdf\u001b[0m \u001b[1;33m=\u001b[0m \u001b[0mdf\u001b[0m\u001b[1;33m.\u001b[0m\u001b[0mcumsum\u001b[0m\u001b[1;33m(\u001b[0m\u001b[1;33m)\u001b[0m\u001b[1;33m\u001b[0m\u001b[0m\n\u001b[0;32m      8\u001b[0m \u001b[0mplt\u001b[0m\u001b[1;33m.\u001b[0m\u001b[0mfigure\u001b[0m\u001b[1;33m(\u001b[0m\u001b[1;33m)\u001b[0m\u001b[1;33m;\u001b[0m \u001b[0mdf\u001b[0m\u001b[1;33m.\u001b[0m\u001b[0mplot\u001b[0m\u001b[1;33m(\u001b[0m\u001b[1;33m)\u001b[0m\u001b[1;33m;\u001b[0m\u001b[1;33m\u001b[0m\u001b[0m\n",
      "\u001b[1;31mNameError\u001b[0m: name 'ts' is not defined"
     ]
    }
   ],
   "source": [
    "import pandas as pd\n",
    "import numpy as np\n",
    "import csv\n",
    "import matplotlib as plt\n",
    "\n",
    "df = pd.DataFrame(np.random.randn(1000, 4), index=ts.index, columns=list('ABCD'))\n",
    "df = df.cumsum()\n",
    "plt.figure(); df.plot();"
   ]
  },
  {
   "cell_type": "code",
   "execution_count": 9,
   "metadata": {
    "collapsed": false
   },
   "outputs": [],
   "source": [
    "import pandas as pd\n",
    "import numpy as np\n",
    "import csv\n",
    "import matplotlib as plt\n",
    "\n",
    "ts = pd.Series(np.random.randn(1000), index=pd.date_range('1/1/2000', periods=1000))\n",
    "\n",
    "ts = ts.cumsum()\n",
    "\n",
    "ts.plot()\n",
    "\n",
    "df = pd.DataFrame(np.random.randn(1000, 4), index=ts.index, columns=list('ABCD'))\n",
    "df = df.cumsum()"
   ]
  },
  {
   "cell_type": "code",
   "execution_count": 10,
   "metadata": {
    "collapsed": false
   },
   "outputs": [
    {
     "data": {
      "text/plain": [
       "<matplotlib.axes._subplots.AxesSubplot at 0x48170fd0>"
      ]
     },
     "execution_count": 10,
     "metadata": {},
     "output_type": "execute_result"
    }
   ],
   "source": [
    "import pandas as pd\n",
    "import numpy as np\n",
    "import csv\n",
    "import matplotlib as plt\n",
    "\n",
    "ts = pd.Series(np.random.randn(1000), index=pd.date_range('1/1/2000', periods=1000))\n",
    "\n",
    "ts = ts.cumsum()\n",
    "\n",
    "ts.plot()"
   ]
  },
  {
   "cell_type": "code",
   "execution_count": 11,
   "metadata": {
    "collapsed": false
   },
   "outputs": [
    {
     "data": {
      "text/plain": [
       "<matplotlib.axes._subplots.AxesSubplot at 0x2319bf28>"
      ]
     },
     "execution_count": 11,
     "metadata": {},
     "output_type": "execute_result"
    },
    {
     "data": {
      "image/png": "[encoded data removed]",
      "text/plain": [
       "<matplotlib.figure.Figure at 0x23193748>"
      ]
     },
     "metadata": {},
     "output_type": "display_data"
    }
   ],
   "source": [
    "%matplotlib inline\n",
    "\n",
    "import pandas as pd\n",
    "import numpy as np\n",
    "import csv\n",
    "import matplotlib as plt\n",
    "\n",
    "ts = pd.Series(np.random.randn(1000), index=pd.date_range('1/1/2000', periods=1000))\n",
    "\n",
    "ts = ts.cumsum()\n",
    "\n",
    "ts.plot()\n"
   ]
  },
  {
   "cell_type": "code",
   "execution_count": 19,
   "metadata": {
    "collapsed": false
   },
   "outputs": [
    {
     "data": {
      "text/plain": [
       "<matplotlib.axes._subplots.AxesSubplot at 0xad826be0>"
      ]
     },
     "execution_count": 19,
     "metadata": {},
     "output_type": "execute_result"
    },
    {
     "data": {
      "image/png": "[encoded data removed]",
      "text/plain": [
       "<matplotlib.figure.Figure at 0x53a50630>"
      ]
     },
     "metadata": {},
     "output_type": "display_data"
    }
   ],
   "source": [
    "%matplotlib inline\n",
    "\n",
    "import pandas as pd\n",
    "import numpy as np\n",
    "import csv\n",
    "import matplotlib as plt\n",
    "from pandas.tools.plotting import andrews_curves\n",
    "\n",
    "\n",
    "c_names = ['vID', 'frID', 'tFr','Timestamp', 'localX', 'localY', 'globalX','globalY', 'vLenght', 'vWidth', 'vType', 'veloc','accel', 'line', 'pred', 'foll', 'spac', 'headway', 'dateTime']\n",
    "\n",
    "data = pd.read_table('D:\\\\zzzLola\\\\PhD\\\\DataSet\\\\US101\\\\test\\\\dataset1DT.txt', sep='\\t', header=None, names=c_names)\n",
    "\n",
    "# Stast description of the whole dataset.\n",
    "desc = data.describe()\n",
    "\n",
    "##++++++++++++Example\n",
    "# data.groupby(['col5', 'col2']).size().groupby(level=1).max()\n",
    "\n",
    "#Mean of values by vehicle Id and DataTime\n",
    "mean = data.groupby(['vID', 'dateTime']).mean()\n",
    "\n",
    "#Number of vehicles\n",
    "num_v = data.groupby(['vID']).size()\n",
    "\n",
    "#Number of registers by timestamp\n",
    "ts_match = data.groupby(['Timestamp']).size()\n",
    "ts_match_max = data.groupby(['Timestamp']).size().max()\n",
    "ts_match_min = data.groupby(['Timestamp']).size().min()\n",
    "ts_match_mean = data.groupby(['Timestamp']).size().mean()\n",
    "\n",
    "#number of register by dataTime\n",
    "dt_match = data.groupby(['dateTime']).size()\n",
    "dt_match_max = data.groupby(['dateTime']).size().max()\n",
    "dt_match_min = data.groupby(['dateTime']).size().min()\n",
    "dt_match_mean = data.groupby(['dateTime']).size().mean()\n",
    "\n",
    "#print (desc)\n",
    "#print (mean [:10])\n",
    "\n",
    "num_v.plot(kind='barh', stacked=True)\n",
    "\n",
    "#print(num_v)\n",
    "\n",
    "#print (ts_match_max, ts_match_min, ts_match_mean)\n",
    "#print (dt_match_max, dt_match_min, dt_match_mean)"
   ]
  },
  {
   "cell_type": "code",
   "execution_count": 3,
   "metadata": {
    "collapsed": false,
    "scrolled": true
   },
   "outputs": [
    {
     "name": "stdout",
     "output_type": "stream",
     "text": [
      "     frID  tFr  Timestamp  localX  localY  globalX  globalY  vLenght  vWidth  \\\n",
      "vID                                                                            \n",
      "2     437  437        437     437     437      437      437      437     437   \n",
      "4     351  351        351     351     351      351      351      351     351   \n",
      "5     452  452        452     452     452      452      452      452     452   \n",
      "6     357  357        357     357     357      357      357      357     357   \n",
      "\n",
      "     vType  veloc  accel  line  pred  foll  spac  headway  dateTime  \n",
      "vID                                                                  \n",
      "2      437    437    437   437   437   437   437      437       437  \n",
      "4      351    351    351   351   351   351   351      351       351  \n",
      "5      452    452    452   452   452   452   452      452       452  \n",
      "6      357    357    357   357   357   357   357      357       357  \n"
     ]
    },
    {
     "data": {
      "image/png": "[encoded data removed]",
      "text/plain": [
       "<matplotlib.figure.Figure at 0x9277780>"
      ]
     },
     "metadata": {},
     "output_type": "display_data"
    }
   ],
   "source": [
    "%matplotlib inline\n",
    "\n",
    "import pandas as pd\n",
    "import numpy as np\n",
    "import csv\n",
    "import matplotlib as plt\n",
    "from pandas.tools.plotting import andrews_curves\n",
    "\n",
    "\n",
    "c_names = ['vID', 'frID', 'tFr','Timestamp', 'localX', 'localY', 'globalX','globalY', 'vLenght', 'vWidth', 'vType', 'veloc','accel', 'line', 'pred', 'foll', 'spac', 'headway', 'dateTime']\n",
    "\n",
    "data = pd.read_table('D:\\\\zzzLola\\\\PhD\\\\DataSet\\\\US101\\\\test\\\\portion1Set2DT.txt', sep='\\t', header=None, names=c_names)\n",
    "\n",
    "# Stast description of the whole dataset.\n",
    "desc = data.describe()\n",
    "\n",
    "##++++++++++++Example\n",
    "# data.groupby(['col5', 'col2']).size().groupby(level=1).max()\n",
    "\n",
    "#Mean of values by vehicle Id and DataTime\n",
    "mean = data.groupby(['vID', 'dateTime']).mean()\n",
    "\n",
    "#Number of vehicles\n",
    "num_v = data.groupby(['vID']).size()\n",
    "\n",
    "\n",
    "#Number of registers by timestamp\n",
    "ts_match = data.groupby(['Timestamp']).size()\n",
    "ts_match_max = data.groupby(['Timestamp']).size().max()\n",
    "ts_match_min = data.groupby(['Timestamp']).size().min()\n",
    "ts_match_mean = data.groupby(['Timestamp']).size().mean()\n",
    "\n",
    "#number of register by dataTime\n",
    "dt_match = data.groupby(['dateTime']).size()\n",
    "dt_match_max = data.groupby(['dateTime']).size().max()\n",
    "dt_match_min = data.groupby(['dateTime']).size().min()\n",
    "dt_match_mean = data.groupby(['dateTime']).size().mean()\n",
    "\n",
    "#print (desc)\n",
    "#print (mean [:10])\n",
    "\n",
    "num_v.plot(kind='barh', stacked=True)\n",
    "print (data.groupby(['vID']).count())\n",
    "\n",
    "#ts_match.plot(kind='barh', stacked=True)\n",
    "\n",
    "#dt_match.plot(kind='barh', stacked=True)\n",
    "\n",
    "#print(num_v)\n",
    "\n",
    "#print (ts_match_max, ts_match_min, ts_match_mean)\n",
    "#print (dt_match_max, dt_match_min, dt_match_mean)"
   ]
  },
  {
   "cell_type": "code",
   "execution_count": 4,
   "metadata": {
    "collapsed": false,
    "scrolled": true
   },
   "outputs": [
    {
     "data": {
      "text/plain": [
       "<matplotlib.axes._subplots.AxesSubplot at 0x933cb00>"
      ]
     },
     "execution_count": 4,
     "metadata": {},
     "output_type": "execute_result"
    },
    {
     "data": {
      "image/png": "[encoded data removed]",
      "text/plain": [
       "<matplotlib.figure.Figure at 0x8558c88>"
      ]
     },
     "metadata": {},
     "output_type": "display_data"
    }
   ],
   "source": [
    "ts_match.plot(kind='barh', stacked=True)"
   ]
  },
  {
   "cell_type": "code",
   "execution_count": 5,
   "metadata": {
    "collapsed": false
   },
   "outputs": [
    {
     "data": {
      "text/plain": [
       "<matplotlib.axes._subplots.AxesSubplot at 0xc1891d0>"
      ]
     },
     "execution_count": 5,
     "metadata": {},
     "output_type": "execute_result"
    },
    {
     "data": {
      "image/png": "[encoded data removed]",
      "text/plain": [
       "<matplotlib.figure.Figure at 0xc11ccf8>"
      ]
     },
     "metadata": {},
     "output_type": "display_data"
    }
   ],
   "source": [
    "dt_match.plot(kind='barh', stacked=True)"
   ]
  },
  {
   "cell_type": "code",
   "execution_count": 7,
   "metadata": {
    "collapsed": true
   },
   "outputs": [],
   "source": [
    "%matplotlib inline\n",
    "\n",
    "import pandas as pd\n",
    "import numpy as np\n",
    "import csv\n",
    "import matplotlib as plt\n",
    "from pandas.tools.plotting import andrews_curves\n",
    "\n",
    "\n",
    "c_names = ['vID', 'frID', 'tFr','Timestamp', 'localX', 'localY', 'globalX','globalY', 'vLenght', 'vWidth', 'vType', 'veloc','accel', 'line', 'pred', 'foll', 'spac', 'headway', 'dateTime']\n",
    "\n",
    "data = pd.read_table('D:\\\\zzzLola\\\\PhD\\\\DataSet\\\\US101\\\\test\\\\dataset1DT.txt', sep='\\t', header=None, names=c_names)\n",
    "\n",
    "# Stast description of the whole dataset.\n",
    "desc = data.describe()\n",
    "\n",
    "##++++++++++++Example\n",
    "# data.groupby(['col5', 'col2']).size().groupby(level=1).max()\n",
    "\n",
    "#Mean of values by vehicle Id and DataTime\n",
    "mean = data.groupby(['vID', 'dateTime']).mean()\n",
    "\n",
    "#Number of vehicles\n",
    "num_v = data.groupby(['vID']).size()\n",
    "\n",
    "\n",
    "#Number of registers by timestamp\n",
    "ts_match = data.groupby(['Timestamp', 'vID']).size()\n",
    "ts_match_max = data.groupby(['Timestamp']).size().max()\n",
    "ts_match_min = data.groupby(['Timestamp']).size().min()\n",
    "ts_match_mean = data.groupby(['Timestamp']).size().mean()\n",
    "\n",
    "#number of register by dataTime\n",
    "dt_match = data.groupby(['dateTime', 'vID']).size()\n",
    "dt_match_max = data.groupby(['dateTime']).size().max()\n",
    "dt_match_min = data.groupby(['dateTime']).size().min()\n",
    "dt_match_mean = data.groupby(['dateTime']).size().mean()"
   ]
  },
  {
   "cell_type": "code",
   "execution_count": 8,
   "metadata": {
    "collapsed": false
   },
   "outputs": [
    {
     "name": "stdout",
     "output_type": "stream",
     "text": [
      "      frID  tFr  Timestamp  localX  localY  globalX  globalY  vLenght  vWidth  \\\n",
      "vID                                                                             \n",
      "2      437  437        437     437     437      437      437      437     437   \n",
      "4      351  351        351     351     351      351      351      351     351   \n",
      "5      452  452        452     452     452      452      452      452     452   \n",
      "6      357  357        357     357     357      357      357      357     357   \n",
      "8      448  448        448     448     448      448      448      448     448   \n",
      "9      409  409        409     409     409      409      409      409     409   \n",
      "10     436  436        436     436     436      436      436      436     436   \n",
      "12     443  443        443     443     443      443      443      443     443   \n",
      "13     432  432        432     432     432      432      432      432     432   \n",
      "14     515  515        515     515     515      515      515      515     515   \n",
      "18     291  291        291     291     291      291      291      291     291   \n",
      "20     414  414        414     414     414      414      414      414     414   \n",
      "21     439  439        439     439     439      439      439      439     439   \n",
      "22     441  441        441     441     441      441      441      441     441   \n",
      "23     438  438        438     438     438      438      438      438     438   \n",
      "25     436  436        436     436     436      436      436      436     436   \n",
      "26     438  438        438     438     438      438      438      438     438   \n",
      "27     432  432        432     432     432      432      432      432     432   \n",
      "31     465  465        465     465     465      465      465      465     465   \n",
      "32     438  438        438     438     438      438      438      438     438   \n",
      "33     383  383        383     383     383      383      383      383     383   \n",
      "34     451  451        451     451     451      451      451      451     451   \n",
      "35     280  280        280     280     280      280      280      280     280   \n",
      "37     408  408        408     408     408      408      408      408     408   \n",
      "39     450  450        450     450     450      450      450      450     450   \n",
      "40     391  391        391     391     391      391      391      391     391   \n",
      "42     389  389        389     389     389      389      389      389     389   \n",
      "43     458  458        458     458     458      458      458      458     458   \n",
      "44     379  379        379     379     379      379      379      379     379   \n",
      "47     428  428        428     428     428      428      428      428     428   \n",
      "...    ...  ...        ...     ...     ...      ...      ...      ...     ...   \n",
      "3004   725  725        725     725     725      725      725      725     725   \n",
      "3005   726  726        726     726     726      726      726      726     726   \n",
      "3006   741  741        741     741     741      741      741      741     741   \n",
      "3007   853  853        853     853     853      853      853      853     853   \n",
      "3008   724  724        724     724     724      724      724      724     724   \n",
      "3009   732  732        732     732     732      732      732      732     732   \n",
      "3011   842  842        842     842     842      842      842      842     842   \n",
      "3014   676  676        676     676     676      676      676      676     676   \n",
      "3015   578  578        578     578     578      578      578      578     578   \n",
      "3018   714  714        714     714     714      714      714      714     714   \n",
      "3019   704  704        704     704     704      704      704      704     704   \n",
      "3021   678  678        678     678     678      678      678      678     678   \n",
      "3022   641  641        641     641     641      641      641      641     641   \n",
      "3023   403  403        403     403     403      403      403      403     403   \n",
      "3024   834  834        834     834     834      834      834      834     834   \n",
      "3025   644  644        644     644     644      644      644      644     644   \n",
      "3026   326  326        326     326     326      326      326      326     326   \n",
      "3030   667  667        667     667     667      667      667      667     667   \n",
      "3032   820  820        820     820     820      820      820      820     820   \n",
      "3033   633  633        633     633     633      633      633      633     633   \n",
      "3034   567  567        567     567     567      567      567      567     567   \n",
      "3101   255  255        255     255     255      255      255      255     255   \n",
      "3102   443  443        443     443     443      443      443      443     443   \n",
      "3103   461  461        461     461     461      461      461      461     461   \n",
      "3104   474  474        474     474     474      474      474      474     474   \n",
      "3105   534  534        534     534     534      534      534      534     534   \n",
      "3106   515  515        515     515     515      515      515      515     515   \n",
      "3107   282  282        282     282     282      282      282      282     282   \n",
      "3108   359  359        359     359     359      359      359      359     359   \n",
      "3109   510  510        510     510     510      510      510      510     510   \n",
      "\n",
      "      vType  veloc  accel  line  pred  foll  spac  headway  dateTime  \n",
      "vID                                                                   \n",
      "2       437    437    437   437   437   437   437      437       437  \n",
      "4       351    351    351   351   351   351   351      351       351  \n",
      "5       452    452    452   452   452   452   452      452       452  \n",
      "6       357    357    357   357   357   357   357      357       357  \n",
      "8       448    448    448   448   448   448   448      448       448  \n",
      "9       409    409    409   409   409   409   409      409       409  \n",
      "10      436    436    436   436   436   436   436      436       436  \n",
      "12      443    443    443   443   443   443   443      443       443  \n",
      "13      432    432    432   432   432   432   432      432       432  \n",
      "14      515    515    515   515   515   515   515      515       515  \n",
      "18      291    291    291   291   291   291   291      291       291  \n",
      "20      414    414    414   414   414   414   414      414       414  \n",
      "21      439    439    439   439   439   439   439      439       439  \n",
      "22      441    441    441   441   441   441   441      441       441  \n",
      "23      438    438    438   438   438   438   438      438       438  \n",
      "25      436    436    436   436   436   436   436      436       436  \n",
      "26      438    438    438   438   438   438   438      438       438  \n",
      "27      432    432    432   432   432   432   432      432       432  \n",
      "31      465    465    465   465   465   465   465      465       465  \n",
      "32      438    438    438   438   438   438   438      438       438  \n",
      "33      383    383    383   383   383   383   383      383       383  \n",
      "34      451    451    451   451   451   451   451      451       451  \n",
      "35      280    280    280   280   280   280   280      280       280  \n",
      "37      408    408    408   408   408   408   408      408       408  \n",
      "39      450    450    450   450   450   450   450      450       450  \n",
      "40      391    391    391   391   391   391   391      391       391  \n",
      "42      389    389    389   389   389   389   389      389       389  \n",
      "43      458    458    458   458   458   458   458      458       458  \n",
      "44      379    379    379   379   379   379   379      379       379  \n",
      "47      428    428    428   428   428   428   428      428       428  \n",
      "...     ...    ...    ...   ...   ...   ...   ...      ...       ...  \n",
      "3004    725    725    725   725   725   725   725      725       725  \n",
      "3005    726    726    726   726   726   726   726      726       726  \n",
      "3006    741    741    741   741   741   741   741      741       741  \n",
      "3007    853    853    853   853   853   853   853      853       853  \n",
      "3008    724    724    724   724   724   724   724      724       724  \n",
      "3009    732    732    732   732   732   732   732      732       732  \n",
      "3011    842    842    842   842   842   842   842      842       842  \n",
      "3014    676    676    676   676   676   676   676      676       676  \n",
      "3015    578    578    578   578   578   578   578      578       578  \n",
      "3018    714    714    714   714   714   714   714      714       714  \n",
      "3019    704    704    704   704   704   704   704      704       704  \n",
      "3021    678    678    678   678   678   678   678      678       678  \n",
      "3022    641    641    641   641   641   641   641      641       641  \n",
      "3023    403    403    403   403   403   403   403      403       403  \n",
      "3024    834    834    834   834   834   834   834      834       834  \n",
      "3025    644    644    644   644   644   644   644      644       644  \n",
      "3026    326    326    326   326   326   326   326      326       326  \n",
      "3030    667    667    667   667   667   667   667      667       667  \n",
      "3032    820    820    820   820   820   820   820      820       820  \n",
      "3033    633    633    633   633   633   633   633      633       633  \n",
      "3034    567    567    567   567   567   567   567      567       567  \n",
      "3101    255    255    255   255   255   255   255      255       255  \n",
      "3102    443    443    443   443   443   443   443      443       443  \n",
      "3103    461    461    461   461   461   461   461      461       461  \n",
      "3104    474    474    474   474   474   474   474      474       474  \n",
      "3105    534    534    534   534   534   534   534      534       534  \n",
      "3106    515    515    515   515   515   515   515      515       515  \n",
      "3107    282    282    282   282   282   282   282      282       282  \n",
      "3108    359    359    359   359   359   359   359      359       359  \n",
      "3109    510    510    510   510   510   510   510      510       510  \n",
      "\n",
      "[2169 rows x 18 columns]\n"
     ]
    }
   ],
   "source": [
    "print (data.groupby(['vID']).count())"
   ]
  },
  {
   "cell_type": "code",
   "execution_count": 9,
   "metadata": {
    "collapsed": false,
    "scrolled": true
   },
   "outputs": [
    {
     "data": {
      "text/plain": [
       "<matplotlib.axes._subplots.AxesSubplot at 0xead6470>"
      ]
     },
     "execution_count": 9,
     "metadata": {},
     "output_type": "execute_result"
    },
    {
     "data": {
      "image/png": "[encoded data removed]",
      "text/plain": [
       "<matplotlib.figure.Figure at 0xeadc320>"
      ]
     },
     "metadata": {},
     "output_type": "display_data"
    }
   ],
   "source": [
    "num_v.plot(kind='barh', stacked=True)"
   ]
  },
  {
   "cell_type": "code",
   "execution_count": 10,
   "metadata": {
    "collapsed": false
   },
   "outputs": [
    {
     "data": {
      "text/plain": [
       "<matplotlib.axes._subplots.AxesSubplot at 0xddcf550>"
      ]
     },
     "execution_count": 10,
     "metadata": {},
     "output_type": "execute_result"
    },
    {
     "data": {
      "image/png": "[encoded data removed]",
      "text/plain": [
       "<matplotlib.figure.Figure at 0xeacc780>"
      ]
     },
     "metadata": {},
     "output_type": "display_data"
    }
   ],
   "source": [
    "ts_match.plot(kind='barh', stacked=True)"
   ]
  },
  {
   "cell_type": "code",
   "execution_count": 11,
   "metadata": {
    "collapsed": false
   },
   "outputs": [
    {
     "data": {
      "text/plain": [
       "<matplotlib.axes._subplots.AxesSubplot at 0x18cfa6d8>"
      ]
     },
     "execution_count": 11,
     "metadata": {},
     "output_type": "execute_result"
    },
    {
     "data": {
      "image/png": "[encoded data removed]",
      "text/plain": [
       "<matplotlib.figure.Figure at 0x13ef8eb8>"
      ]
     },
     "metadata": {},
     "output_type": "display_data"
    }
   ],
   "source": [
    "dt_match.plot(kind='barh', stacked=True)"
   ]
  },
  {
   "cell_type": "code",
   "execution_count": 12,
   "metadata": {
    "collapsed": false
   },
   "outputs": [
    {
     "name": "stdout",
     "output_type": "stream",
     "text": [
      "(194, 1, 123.89526707944171)\n",
      "(1926, 3, 1237.524109014675)\n"
     ]
    }
   ],
   "source": [
    "print (ts_match_max, ts_match_min, ts_match_mean)\n",
    "print (dt_match_max, dt_match_min, dt_match_mean)"
   ]
  },
  {
   "cell_type": "code",
   "execution_count": 13,
   "metadata": {
    "collapsed": false
   },
   "outputs": [
    {
     "name": "stdout",
     "output_type": "stream",
     "text": [
      "                          frID  tFr     Timestamp     localX      localY  \\\n",
      "vID dateTime                                                               \n",
      "2   2005-06-15 14:49:40   16.5  437  1.118847e+12  16.395125   49.380625   \n",
      "    2005-06-15 14:49:41   25.5  437  1.118847e+12  16.248700   85.049000   \n",
      "    2005-06-15 14:49:42   35.5  437  1.118847e+12  16.549500  122.327800   \n",
      "    2005-06-15 14:49:43   45.5  437  1.118847e+12  16.078200  158.535100   \n",
      "    2005-06-15 14:49:44   55.5  437  1.118847e+12  14.532900  197.567300   \n",
      "    2005-06-15 14:49:45   65.5  437  1.118847e+12  15.562200  237.208600   \n",
      "    2005-06-15 14:49:46   75.5  437  1.118847e+12  16.657900  278.598900   \n",
      "    2005-06-15 14:49:47   85.5  437  1.118847e+12  16.130900  322.998400   \n",
      "    2005-06-15 14:49:48   95.5  437  1.118847e+12  16.430600  367.761600   \n",
      "    2005-06-15 14:49:49  105.5  437  1.118847e+12  17.410300  413.588400   \n",
      "\n",
      "                               globalX         globalY  vLenght  vWidth  \\\n",
      "vID dateTime                                                              \n",
      "2   2005-06-15 14:49:40  6451147.05075  1873334.595875     14.5     4.9   \n",
      "    2005-06-15 14:49:41  6451171.07880  1873308.121600     14.5     4.9   \n",
      "    2005-06-15 14:49:42  6451196.26890  1873280.366000     14.5     4.9   \n",
      "    2005-06-15 14:49:43  6451221.32770  1873254.149300     14.5     4.9   \n",
      "    2005-06-15 14:49:44  6451249.44020  1873226.795300     14.5     4.9   \n",
      "    2005-06-15 14:49:45  6451276.55360  1873197.369400     14.5     4.9   \n",
      "    2005-06-15 14:49:46  6451305.62580  1873167.561400     14.5     4.9   \n",
      "    2005-06-15 14:49:47  6451337.91880  1873137.082800     14.5     4.9   \n",
      "    2005-06-15 14:49:48  6451370.43160  1873105.807000     14.5     4.9   \n",
      "    2005-06-15 14:49:49  6451403.48850  1873073.998600     14.5     4.9   \n",
      "\n",
      "                         vType    veloc    accel  line  pred  foll  spac  \\\n",
      "vID dateTime                                                               \n",
      "2   2005-06-15 14:49:40      2  40.0025  0.03125     2     0   0.0     0   \n",
      "    2005-06-15 14:49:41      2  39.0260 -1.85300     2     0  11.7     0   \n",
      "    2005-06-15 14:49:42      2  35.4440 -2.79500     2     0  13.0     0   \n",
      "    2005-06-15 14:49:43      2  38.1130  4.21500     2     0  13.0     0   \n",
      "    2005-06-15 14:49:44      2  39.4610  0.59800     2     0  13.0     0   \n",
      "    2005-06-15 14:49:45      2  39.8820  0.20500     2     0  13.0     0   \n",
      "    2005-06-15 14:49:46      2  43.2380  3.94300     2     0  13.0     0   \n",
      "    2005-06-15 14:49:47      2  44.8580 -0.37600     2     0  13.0     0   \n",
      "    2005-06-15 14:49:48      2  45.4040  2.91600     2     0  13.0     0   \n",
      "    2005-06-15 14:49:49      2  45.2830 -1.97200     2     0  13.0     0   \n",
      "\n",
      "                         headway  \n",
      "vID dateTime                      \n",
      "2   2005-06-15 14:49:40        0  \n",
      "    2005-06-15 14:49:41        0  \n",
      "    2005-06-15 14:49:42        0  \n",
      "    2005-06-15 14:49:43        0  \n",
      "    2005-06-15 14:49:44        0  \n",
      "    2005-06-15 14:49:45        0  \n",
      "    2005-06-15 14:49:46        0  \n",
      "    2005-06-15 14:49:47        0  \n",
      "    2005-06-15 14:49:48        0  \n",
      "    2005-06-15 14:49:49        0  \n"
     ]
    }
   ],
   "source": [
    "print (mean [:10])"
   ]
  },
  {
   "cell_type": "code",
   "execution_count": 14,
   "metadata": {
    "collapsed": false
   },
   "outputs": [
    {
     "name": "stdout",
     "output_type": "stream",
     "text": [
      "                          frID  tFr     Timestamp     localX       localY  \\\n",
      "vID dateTime                                                                \n",
      "2   2005-06-15 14:49:40   16.5  437  1.118847e+12  16.395125    49.380625   \n",
      "    2005-06-15 14:49:41   25.5  437  1.118847e+12  16.248700    85.049000   \n",
      "    2005-06-15 14:49:42   35.5  437  1.118847e+12  16.549500   122.327800   \n",
      "    2005-06-15 14:49:43   45.5  437  1.118847e+12  16.078200   158.535100   \n",
      "    2005-06-15 14:49:44   55.5  437  1.118847e+12  14.532900   197.567300   \n",
      "    2005-06-15 14:49:45   65.5  437  1.118847e+12  15.562200   237.208600   \n",
      "    2005-06-15 14:49:46   75.5  437  1.118847e+12  16.657900   278.598900   \n",
      "    2005-06-15 14:49:47   85.5  437  1.118847e+12  16.130900   322.998400   \n",
      "    2005-06-15 14:49:48   95.5  437  1.118847e+12  16.430600   367.761600   \n",
      "    2005-06-15 14:49:49  105.5  437  1.118847e+12  17.410300   413.588400   \n",
      "    2005-06-15 14:49:50  115.5  437  1.118847e+12  18.355500   458.081900   \n",
      "    2005-06-15 14:49:51  125.5  437  1.118847e+12  17.591300   499.134600   \n",
      "    2005-06-15 14:49:52  135.5  437  1.118847e+12  17.668100   535.880900   \n",
      "    2005-06-15 14:49:53  145.5  437  1.118847e+12  18.431600   571.199700   \n",
      "    2005-06-15 14:49:54  155.5  437  1.118847e+12  18.072300   607.279700   \n",
      "    2005-06-15 14:49:55  165.5  437  1.118847e+12  17.601300   646.529900   \n",
      "    2005-06-15 14:49:56  175.5  437  1.118847e+12  17.327600   687.665400   \n",
      "    2005-06-15 14:49:57  185.5  437  1.118847e+12  17.056600   732.249800   \n",
      "    2005-06-15 14:49:58  195.5  437  1.118847e+12  16.456900   777.691900   \n",
      "    2005-06-15 14:49:59  205.5  437  1.118847e+12  12.999600   827.392800   \n",
      "    2005-06-15 14:50:00  215.5  437  1.118847e+12  11.227900   876.678400   \n",
      "    2005-06-15 14:50:01  225.5  437  1.118847e+12  11.653000   926.757400   \n",
      "    2005-06-15 14:50:02  235.5  437  1.118847e+12  11.286600   978.255700   \n",
      "    2005-06-15 14:50:03  245.5  437  1.118847e+12  10.747200  1034.549600   \n",
      "    2005-06-15 14:50:04  255.5  437  1.118847e+12  10.852600  1092.173700   \n",
      "    2005-06-15 14:50:05  265.5  437  1.118847e+12  10.917100  1147.714700   \n",
      "    2005-06-15 14:50:06  275.5  437  1.118847e+12   9.421900  1198.508000   \n",
      "    2005-06-15 14:50:07  285.5  437  1.118847e+12   7.389700  1246.675700   \n",
      "    2005-06-15 14:50:08  295.5  437  1.118847e+12   6.532700  1292.783100   \n",
      "    2005-06-15 14:50:09  305.5  437  1.118847e+12   7.086300  1334.235300   \n",
      "    2005-06-15 14:50:10  315.5  437  1.118847e+12   7.533600  1374.400900   \n",
      "    2005-06-15 14:50:11  325.5  437  1.118847e+12   7.642800  1415.181300   \n",
      "    2005-06-15 14:50:12  335.5  437  1.118847e+12   7.623300  1459.687400   \n",
      "    2005-06-15 14:50:13  345.5  437  1.118847e+12   7.526000  1505.457700   \n",
      "    2005-06-15 14:50:14  355.5  437  1.118847e+12   7.349300  1554.578300   \n",
      "    2005-06-15 14:50:15  365.5  437  1.118847e+12   8.097900  1605.381200   \n",
      "    2005-06-15 14:50:16  375.5  437  1.118847e+12   7.969900  1659.391200   \n",
      "    2005-06-15 14:50:17  385.5  437  1.118847e+12   7.225300  1715.205200   \n",
      "    2005-06-15 14:50:18  395.5  437  1.118847e+12   7.262800  1774.544200   \n",
      "    2005-06-15 14:50:19  405.5  437  1.118847e+12   7.155600  1836.173900   \n",
      "    2005-06-15 14:50:20  415.5  437  1.118847e+12   8.351200  1901.437700   \n",
      "    2005-06-15 14:50:21  425.5  437  1.118847e+12   8.829100  1967.929400   \n",
      "    2005-06-15 14:50:22  435.5  437  1.118847e+12   9.098000  2035.809700   \n",
      "    2005-06-15 14:50:23  445.0  437  1.118847e+12   8.816111  2102.117778   \n",
      "4   2005-06-15 14:49:51  129.0  351  1.118847e+12  66.250667   508.664667   \n",
      "    2005-06-15 14:49:52  135.5  351  1.118847e+12  65.464600   535.440900   \n",
      "    2005-06-15 14:49:53  145.5  351  1.118847e+12  62.737400   578.772400   \n",
      "    2005-06-15 14:49:54  155.5  351  1.118847e+12  61.667000   618.786200   \n",
      "    2005-06-15 14:49:55  165.5  351  1.118847e+12  61.184700   658.677800   \n",
      "    2005-06-15 14:49:56  175.5  351  1.118847e+12  58.948700   702.243200   \n",
      "\n",
      "                                globalX         globalY  vLenght  vWidth  \\\n",
      "vID dateTime                                                               \n",
      "2   2005-06-15 14:49:40  6451147.050750  1873334.595875     14.5     4.9   \n",
      "    2005-06-15 14:49:41  6451171.078800  1873308.121600     14.5     4.9   \n",
      "    2005-06-15 14:49:42  6451196.268900  1873280.366000     14.5     4.9   \n",
      "    2005-06-15 14:49:43  6451221.327700  1873254.149300     14.5     4.9   \n",
      "    2005-06-15 14:49:44  6451249.440200  1873226.795300     14.5     4.9   \n",
      "    2005-06-15 14:49:45  6451276.553600  1873197.369400     14.5     4.9   \n",
      "    2005-06-15 14:49:46  6451305.625800  1873167.561400     14.5     4.9   \n",
      "    2005-06-15 14:49:47  6451337.918800  1873137.082800     14.5     4.9   \n",
      "    2005-06-15 14:49:48  6451370.431600  1873105.807000     14.5     4.9   \n",
      "    2005-06-15 14:49:49  6451403.488500  1873073.998600     14.5     4.9   \n",
      "    2005-06-15 14:49:50  6451435.566900  1873043.150300     14.5     4.9   \n",
      "    2005-06-15 14:49:51  6451466.487100  1873015.865700     14.5     4.9   \n",
      "    2005-06-15 14:49:52  6451493.863000  1872991.230200     14.5     4.9   \n",
      "    2005-06-15 14:49:53  6451519.682800  1872967.114800     14.5     4.9   \n",
      "    2005-06-15 14:49:54  6451546.814900  1872943.332100     14.5     4.9   \n",
      "    2005-06-15 14:49:55  6451576.569800  1872917.526900     14.5     4.9   \n",
      "    2005-06-15 14:49:56  6451607.682900  1872890.569600     14.5     4.9   \n",
      "    2005-06-15 14:49:57  6451641.366700  1872861.358500     14.5     4.9   \n",
      "    2005-06-15 14:49:58  6451675.894900  1872831.836900     14.5     4.9   \n",
      "    2005-06-15 14:49:59  6451715.504000  1872801.608200     14.5     4.9   \n",
      "    2005-06-15 14:50:00  6451753.675600  1872770.389600     14.5     4.9   \n",
      "    2005-06-15 14:50:01  6451791.118300  1872737.034000     14.5     4.9   \n",
      "    2005-06-15 14:50:02  6451830.213800  1872703.530700     14.5     4.9   \n",
      "    2005-06-15 14:50:03  6451873.033300  1872666.971500     14.5     4.9   \n",
      "    2005-06-15 14:50:04  6451916.415900  1872629.039300     14.5     4.9   \n",
      "    2005-06-15 14:50:05  6451958.253000  1872592.503000     14.5     4.9   \n",
      "    2005-06-15 14:50:06  6451997.439200  1872560.216400     14.5     4.9   \n",
      "    2005-06-15 14:50:07  6452035.007800  1872529.999700     14.5     4.9   \n",
      "    2005-06-15 14:50:08  6452070.273700  1872500.239700     14.5     4.9   \n",
      "    2005-06-15 14:50:09  6452101.140700  1872472.575300     14.5     4.9   \n",
      "    2005-06-15 14:50:10  6452131.148500  1872445.871800     14.5     4.9   \n",
      "    2005-06-15 14:50:11  6452161.823100  1872419.020700     14.5     4.9   \n",
      "    2005-06-15 14:50:12  6452195.272300  1872389.700600     14.5     4.9   \n",
      "    2005-06-15 14:50:13  6452229.703700  1872359.548500     14.5     4.9   \n",
      "    2005-06-15 14:50:14  6452266.780300  1872327.273500     14.5     4.9   \n",
      "    2005-06-15 14:50:15  6452304.676400  1872293.402800     14.5     4.9   \n",
      "    2005-06-15 14:50:16  6452345.398100  1872258.038100     14.5     4.9   \n",
      "    2005-06-15 14:50:17  6452387.552500  1872221.462900     14.5     4.9   \n",
      "    2005-06-15 14:50:18  6452432.435400  1872182.497300     14.5     4.9   \n",
      "    2005-06-15 14:50:19  6452479.042300  1872142.246200     14.5     4.9   \n",
      "    2005-06-15 14:50:20  6452527.649900  1872098.558900     14.5     4.9   \n",
      "    2005-06-15 14:50:21  6452578.143000  1872055.148600     14.5     4.9   \n",
      "    2005-06-15 14:50:22  6452630.515200  1872011.771400     14.5     4.9   \n",
      "    2005-06-15 14:50:23  6452682.455667  1871970.417222     14.5     4.9   \n",
      "4   2005-06-15 14:49:51  6451441.192000  1872973.158000     16.0     4.9   \n",
      "    2005-06-15 14:49:52  6451461.662500  1872955.905300     16.0     4.9   \n",
      "    2005-06-15 14:49:53  6451495.791800  1872929.041600     16.0     4.9   \n",
      "    2005-06-15 14:49:54  6451526.375300  1872903.130900     16.0     4.9   \n",
      "    2005-06-15 14:49:55  6451556.954900  1872876.745300     16.0     4.9   \n",
      "    2005-06-15 14:49:56  6451591.181200  1872849.671900     16.0     4.9   \n",
      "\n",
      "                         vType      veloc     accel  line  pred  foll  spac  \\\n",
      "vID dateTime                                                                  \n",
      "2   2005-06-15 14:49:40      2  40.002500  0.031250   2.0     0   0.0     0   \n",
      "    2005-06-15 14:49:41      2  39.026000 -1.853000   2.0     0  11.7     0   \n",
      "    2005-06-15 14:49:42      2  35.444000 -2.795000   2.0     0  13.0     0   \n",
      "    2005-06-15 14:49:43      2  38.113000  4.215000   2.0     0  13.0     0   \n",
      "    2005-06-15 14:49:44      2  39.461000  0.598000   2.0     0  13.0     0   \n",
      "    2005-06-15 14:49:45      2  39.882000  0.205000   2.0     0  13.0     0   \n",
      "    2005-06-15 14:49:46      2  43.238000  3.943000   2.0     0  13.0     0   \n",
      "    2005-06-15 14:49:47      2  44.858000 -0.376000   2.0     0  13.0     0   \n",
      "    2005-06-15 14:49:48      2  45.404000  2.916000   2.0     0  13.0     0   \n",
      "    2005-06-15 14:49:49      2  45.283000 -1.972000   2.0     0  13.0     0   \n",
      "    2005-06-15 14:49:50      2  42.870000 -4.140000   2.0     0  13.0     0   \n",
      "    2005-06-15 14:49:51      2  39.434000 -4.553000   2.0     0  13.0     0   \n",
      "    2005-06-15 14:49:52      2  35.005000  0.267000   2.0     0  13.0     0   \n",
      "    2005-06-15 14:49:53      2  35.510000 -0.446000   2.0     0  13.0     0   \n",
      "    2005-06-15 14:49:54      2  37.734000  4.918000   2.0     0  13.0     0   \n",
      "    2005-06-15 14:49:55      2  39.891000  0.670000   2.0     0  13.0     0   \n",
      "    2005-06-15 14:49:56      2  43.209000  4.440000   2.0     0  13.0     0   \n",
      "    2005-06-15 14:49:57      2  45.000000  0.000000   2.0     0  13.0     0   \n",
      "    2005-06-15 14:49:58      2  47.360000  6.275000   2.0     0  13.0     0   \n",
      "    2005-06-15 14:49:59      2  49.574000 -4.008000   1.6     0  11.8     0   \n",
      "    2005-06-15 14:50:00      2  50.124000  1.663000   1.0     0  10.0     0   \n",
      "    2005-06-15 14:50:01      2  50.024000  1.104000   1.0     0  10.0     0   \n",
      "    2005-06-15 14:50:02      2  53.912000  6.474000   1.0     0  10.0     0   \n",
      "    2005-06-15 14:50:03      2  57.466000  0.426000   1.0     0  10.0     0   \n",
      "    2005-06-15 14:50:04      2  57.238000 -3.704000   1.0     0  10.0     0   \n",
      "    2005-06-15 14:50:05      2  53.398000 -5.018000   1.0     0  10.0     0   \n",
      "    2005-06-15 14:50:06      2  49.199000 -1.014000   1.0     0  10.0     0   \n",
      "    2005-06-15 14:50:07      2  47.242000 -0.035000   1.0     0  10.0     0   \n",
      "    2005-06-15 14:50:08      2  43.434000 -4.889000   1.0     0  10.0     0   \n",
      "    2005-06-15 14:50:09      2  40.679000 -1.014000   1.0     0  10.0     0   \n",
      "    2005-06-15 14:50:10      2  39.998000 -0.026000   1.0     0  10.0     0   \n",
      "    2005-06-15 14:50:11      2  42.791000  4.827000   1.0     0  10.0     0   \n",
      "    2005-06-15 14:50:12      2  45.042000  0.586000   1.0     0  10.0     0   \n",
      "    2005-06-15 14:50:13      2  47.215000  4.277000   1.0     0  10.0     0   \n",
      "    2005-06-15 14:50:14      2  50.521000  0.865000   1.0     0  10.0     0   \n",
      "    2005-06-15 14:50:15      2  51.835000  4.163000   1.0     0  10.0     0   \n",
      "    2005-06-15 14:50:16      2  55.129000 -0.070000   1.0     0  10.0     0   \n",
      "    2005-06-15 14:50:17      2  57.605000  5.065000   1.0     0  10.0     0   \n",
      "    2005-06-15 14:50:18      2  60.097000  0.877000   1.0     0  10.0     0   \n",
      "    2005-06-15 14:50:19      2  63.904000  4.823000   1.0     0  10.0     0   \n",
      "    2005-06-15 14:50:20      2  65.980000  0.967000   1.0     0  10.0     0   \n",
      "    2005-06-15 14:50:21      2  66.890000  0.866000   1.0     0  10.0     0   \n",
      "    2005-06-15 14:50:22      2  69.209000  2.350000   1.0     0  10.0     0   \n",
      "    2005-06-15 14:50:23      2  70.008889  0.112222   1.0     0  10.0     0   \n",
      "4   2005-06-15 14:49:51      2  40.710000  0.000000   7.0     0   0.0     0   \n",
      "    2005-06-15 14:49:52      2  42.905000  4.067000   7.0     0   0.0     0   \n",
      "    2005-06-15 14:49:53      2  41.500000 -5.282000   7.0     0   6.0     0   \n",
      "    2005-06-15 14:49:54      2  39.524000 -0.677000   6.4     0   2.4     0   \n",
      "    2005-06-15 14:49:55      2  41.218000  5.117000   6.0     0   1.8     0   \n",
      "    2005-06-15 14:49:56      2  44.814000 -1.848000   6.0     0   6.0     0   \n",
      "\n",
      "                         headway  \n",
      "vID dateTime                      \n",
      "2   2005-06-15 14:49:40        0  \n",
      "    2005-06-15 14:49:41        0  \n",
      "    2005-06-15 14:49:42        0  \n",
      "    2005-06-15 14:49:43        0  \n",
      "    2005-06-15 14:49:44        0  \n",
      "    2005-06-15 14:49:45        0  \n",
      "    2005-06-15 14:49:46        0  \n",
      "    2005-06-15 14:49:47        0  \n",
      "    2005-06-15 14:49:48        0  \n",
      "    2005-06-15 14:49:49        0  \n",
      "    2005-06-15 14:49:50        0  \n",
      "    2005-06-15 14:49:51        0  \n",
      "    2005-06-15 14:49:52        0  \n",
      "    2005-06-15 14:49:53        0  \n",
      "    2005-06-15 14:49:54        0  \n",
      "    2005-06-15 14:49:55        0  \n",
      "    2005-06-15 14:49:56        0  \n",
      "    2005-06-15 14:49:57        0  \n",
      "    2005-06-15 14:49:58        0  \n",
      "    2005-06-15 14:49:59        0  \n",
      "    2005-06-15 14:50:00        0  \n",
      "    2005-06-15 14:50:01        0  \n",
      "    2005-06-15 14:50:02        0  \n",
      "    2005-06-15 14:50:03        0  \n",
      "    2005-06-15 14:50:04        0  \n",
      "    2005-06-15 14:50:05        0  \n",
      "    2005-06-15 14:50:06        0  \n",
      "    2005-06-15 14:50:07        0  \n",
      "    2005-06-15 14:50:08        0  \n",
      "    2005-06-15 14:50:09        0  \n",
      "    2005-06-15 14:50:10        0  \n",
      "    2005-06-15 14:50:11        0  \n",
      "    2005-06-15 14:50:12        0  \n",
      "    2005-06-15 14:50:13        0  \n",
      "    2005-06-15 14:50:14        0  \n",
      "    2005-06-15 14:50:15        0  \n",
      "    2005-06-15 14:50:16        0  \n",
      "    2005-06-15 14:50:17        0  \n",
      "    2005-06-15 14:50:18        0  \n",
      "    2005-06-15 14:50:19        0  \n",
      "    2005-06-15 14:50:20        0  \n",
      "    2005-06-15 14:50:21        0  \n",
      "    2005-06-15 14:50:22        0  \n",
      "    2005-06-15 14:50:23        0  \n",
      "4   2005-06-15 14:49:51        0  \n",
      "    2005-06-15 14:49:52        0  \n",
      "    2005-06-15 14:49:53        0  \n",
      "    2005-06-15 14:49:54        0  \n",
      "    2005-06-15 14:49:55        0  \n",
      "    2005-06-15 14:49:56        0  \n"
     ]
    }
   ],
   "source": [
    "print (mean [:50])"
   ]
  },
  {
   "cell_type": "code",
   "execution_count": 15,
   "metadata": {
    "collapsed": true
   },
   "outputs": [],
   "source": [
    "#Number of registers by timestamp\n",
    "ts_match = data.groupby(['Timestamp', 'vID']).size()\n",
    "ts_match_max = ts_match.max()\n",
    "ts_match_min = ts_match.min()\n",
    "ts_match_mean = ts_match.mean()\n",
    "\n",
    "#number of register by dataTime\n",
    "dt_match = data.groupby(['dateTime', 'vID']).size()\n",
    "dt_match_max = dt_match.max()\n",
    "dt_match_min = dt_match.min()\n",
    "dt_match_mean = dt_match.mean()"
   ]
  },
  {
   "cell_type": "code",
   "execution_count": 16,
   "metadata": {
    "collapsed": false
   },
   "outputs": [
    {
     "name": "stdout",
     "output_type": "stream",
     "text": [
      "Timestamp      vID\n",
      "1118846979700  5      1\n",
      "1118846979800  5      1\n",
      "1118846979900  5      1\n",
      "1118846980000  5      1\n",
      "1118846980100  5      1\n",
      "1118846980200  2      1\n",
      "               5      1\n",
      "1118846980300  2      1\n",
      "               5      1\n",
      "1118846980400  2      1\n",
      "               5      1\n",
      "1118846980500  2      1\n",
      "               5      1\n",
      "1118846980600  2      1\n",
      "               5      1\n",
      "1118846980700  2      1\n",
      "               5      1\n",
      "1118846980800  2      1\n",
      "               5      1\n",
      "1118846980900  2      1\n",
      "               5      1\n",
      "1118846981000  2      1\n",
      "               5      1\n",
      "1118846981100  2      1\n",
      "               5      1\n",
      "               13     1\n",
      "1118846981200  2      1\n",
      "               5      1\n",
      "               13     1\n",
      "1118846981300  2      1\n",
      "               5      1\n",
      "               13     1\n",
      "1118846981400  2      1\n",
      "               5      1\n",
      "               13     1\n",
      "1118846981500  2      1\n",
      "               5      1\n",
      "               13     1\n",
      "1118846981600  2      1\n",
      "               5      1\n",
      "               13     1\n",
      "1118846981700  2      1\n",
      "               5      1\n",
      "               13     1\n",
      "1118846981800  2      1\n",
      "               5      1\n",
      "               8      1\n",
      "               13     1\n",
      "1118846981900  2      1\n",
      "               5      1\n",
      "dtype: int64\n"
     ]
    }
   ],
   "source": [
    "print (ts_match [:50])"
   ]
  },
  {
   "cell_type": "code",
   "execution_count": 17,
   "metadata": {
    "collapsed": false
   },
   "outputs": [
    {
     "name": "stdout",
     "output_type": "stream",
     "text": [
      "1180598\n"
     ]
    }
   ],
   "source": [
    "print (ts_match.count())"
   ]
  },
  {
   "cell_type": "code",
   "execution_count": 18,
   "metadata": {
    "collapsed": false
   },
   "outputs": [
    {
     "name": "stdout",
     "output_type": "stream",
     "text": [
      "dateTime             vID\n",
      "2005-06-15 14:49:39  5       3\n",
      "2005-06-15 14:49:40  2       8\n",
      "                     5      10\n",
      "2005-06-15 14:49:41  2      10\n",
      "                     5      10\n",
      "                     8       2\n",
      "                     13      9\n",
      "2005-06-15 14:49:42  2      10\n",
      "                     5      10\n",
      "                     8      10\n",
      "                     10      2\n",
      "                     13     10\n",
      "                     14      9\n",
      "                     22      4\n",
      "2005-06-15 14:49:43  2      10\n",
      "                     5      10\n",
      "                     8      10\n",
      "                     9       6\n",
      "                     10     10\n",
      "                     13     10\n",
      "                     14     10\n",
      "                     18      5\n",
      "                     22     10\n",
      "2005-06-15 14:49:44  2      10\n",
      "                     5      10\n",
      "                     8      10\n",
      "                     9      10\n",
      "                     10     10\n",
      "                     12     10\n",
      "                     13     10\n",
      "                     14     10\n",
      "                     18     10\n",
      "                     21      9\n",
      "                     22     10\n",
      "                     26      9\n",
      "2005-06-15 14:49:45  2      10\n",
      "                     5      10\n",
      "                     8      10\n",
      "                     9      10\n",
      "                     10     10\n",
      "                     12     10\n",
      "                     13     10\n",
      "                     14     10\n",
      "                     18     10\n",
      "                     20      1\n",
      "                     21     10\n",
      "                     22     10\n",
      "                     23      6\n",
      "                     26     10\n",
      "                     31      8\n",
      "dtype: int64\n"
     ]
    }
   ],
   "source": [
    "print (dt_match [:50])"
   ]
  },
  {
   "cell_type": "code",
   "execution_count": 19,
   "metadata": {
    "collapsed": false
   },
   "outputs": [
    {
     "name": "stdout",
     "output_type": "stream",
     "text": [
      "120032\n"
     ]
    }
   ],
   "source": [
    "print (dt_match.count())"
   ]
  },
  {
   "cell_type": "code",
   "execution_count": 20,
   "metadata": {
    "collapsed": false
   },
   "outputs": [
    {
     "name": "stdout",
     "output_type": "stream",
     "text": [
      "1\n"
     ]
    }
   ],
   "source": [
    "print (ts_match_max)"
   ]
  },
  {
   "cell_type": "code",
   "execution_count": 2,
   "metadata": {
    "collapsed": false
   },
   "outputs": [
    {
     "ename": "NameError",
     "evalue": "name 'dt_match_max' is not defined",
     "output_type": "error",
     "traceback": [
      "\u001b[1;31m---------------------------------------------------------------------------\u001b[0m",
      "\u001b[1;31mNameError\u001b[0m                                 Traceback (most recent call last)",
      "\u001b[1;32m<ipython-input-2-1f083de4b68f>\u001b[0m in \u001b[0;36m<module>\u001b[1;34m()\u001b[0m\n\u001b[1;32m----> 1\u001b[1;33m \u001b[1;32mprint\u001b[0m\u001b[1;33m(\u001b[0m\u001b[0mdt_match_max\u001b[0m\u001b[1;33m)\u001b[0m\u001b[1;33m\u001b[0m\u001b[0m\n\u001b[0m",
      "\u001b[1;31mNameError\u001b[0m: name 'dt_match_max' is not defined"
     ]
    }
   ],
   "source": [
    "print(dt_match_max)"
   ]
  },
  {
   "cell_type": "code",
   "execution_count": 1,
   "metadata": {
    "collapsed": false
   },
   "outputs": [
    {
     "ename": "NameError",
     "evalue": "name 'dt_match' is not defined",
     "output_type": "error",
     "traceback": [
      "\u001b[1;31m---------------------------------------------------------------------------\u001b[0m",
      "\u001b[1;31mNameError\u001b[0m                                 Traceback (most recent call last)",
      "\u001b[1;32m<ipython-input-1-c50c1b714d44>\u001b[0m in \u001b[0;36m<module>\u001b[1;34m()\u001b[0m\n\u001b[1;32m----> 1\u001b[1;33m \u001b[0mdt_match\u001b[0m\u001b[1;33m\u001b[0m\u001b[0m\n\u001b[0m",
      "\u001b[1;31mNameError\u001b[0m: name 'dt_match' is not defined"
     ]
    }
   ],
   "source": [
    "dt_match "
   ]
  },
  {
   "cell_type": "code",
   "execution_count": null,
   "metadata": {
    "collapsed": true
   },
   "outputs": [],
   "source": []
  }
 ],
 "metadata": {
  "kernelspec": {
   "display_name": "Python 2",
   "language": "python",
   "name": "python2"
  },
  "language_info": {
   "codemirror_mode": {
    "name": "ipython",
    "version": 2
   },
   "file_extension": ".py",
   "mimetype": "text/x-python",
   "name": "python",
   "nbconvert_exporter": "python",
   "pygments_lexer": "ipython2",
   "version": "2.7.11"
  }
 },
 "nbformat": 4,
 "nbformat_minor": 0
}
