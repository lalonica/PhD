{
 "cells": [
  {
   "cell_type": "code",
   "execution_count": 1,
   "metadata": {
    "collapsed": false
   },
   "outputs": [
    {
     "name": "stdout",
     "output_type": "stream",
     "text": [
      "Once deleted, variables cannot be recovered. Proceed (y/[n])? y\n"
     ]
    }
   ],
   "source": [
    "%reset"
   ]
  },
  {
   "cell_type": "code",
   "execution_count": 2,
   "metadata": {
    "collapsed": true
   },
   "outputs": [],
   "source": [
    "%matplotlib inline"
   ]
  },
  {
   "cell_type": "code",
   "execution_count": 3,
   "metadata": {
    "collapsed": true
   },
   "outputs": [],
   "source": [
    "from pandas import Series, DataFrame\n",
    "import pandas as pd\n",
    "import numpy as np\n",
    "import csv\n",
    "import matplotlib.pyplot as plt\n"
   ]
  },
  {
   "cell_type": "code",
   "execution_count": 4,
   "metadata": {
    "collapsed": false
   },
   "outputs": [],
   "source": [
    "c_names = ['vID', 'frID', 'tFr','Timestamp', 'localX', 'localY', 'globalX','globalY', 'vLenght', 'vWidth', 'vType', \n",
    "           'veloc','accel', 'line', 'pred', 'foll', 'spac', 'headway']\n",
    "\n",
    "data = pd.read_table('D:\\\\zzzLola\\\\PhD\\\\DataSet\\\\US101\\\\test\\\\1000ts.txt', sep='\\t', header=None, names=c_names)\n"
   ]
  },
  {
   "cell_type": "code",
   "execution_count": 5,
   "metadata": {
    "collapsed": false
   },
   "outputs": [
    {
     "data": {
      "text/html": [
       "<div>\n",
       "<table border=\"1\" class=\"dataframe\">\n",
       "  <thead>\n",
       "    <tr style=\"text-align: right;\">\n",
       "      <th></th>\n",
       "      <th>vID</th>\n",
       "      <th>frID</th>\n",
       "      <th>tFr</th>\n",
       "      <th>Timestamp</th>\n",
       "      <th>localX</th>\n",
       "      <th>localY</th>\n",
       "      <th>globalX</th>\n",
       "      <th>globalY</th>\n",
       "      <th>vLenght</th>\n",
       "      <th>vWidth</th>\n",
       "      <th>vType</th>\n",
       "      <th>veloc</th>\n",
       "      <th>accel</th>\n",
       "      <th>line</th>\n",
       "      <th>pred</th>\n",
       "      <th>foll</th>\n",
       "      <th>spac</th>\n",
       "      <th>headway</th>\n",
       "    </tr>\n",
       "  </thead>\n",
       "  <tbody>\n",
       "    <tr>\n",
       "      <th>0</th>\n",
       "      <td>1073</td>\n",
       "      <td>3211</td>\n",
       "      <td>587</td>\n",
       "      <td>1118847300000</td>\n",
       "      <td>20.097</td>\n",
       "      <td>1999.367</td>\n",
       "      <td>6452595.286</td>\n",
       "      <td>1872026.290</td>\n",
       "      <td>12.5</td>\n",
       "      <td>5</td>\n",
       "      <td>2</td>\n",
       "      <td>59.92</td>\n",
       "      <td>-1.71</td>\n",
       "      <td>2</td>\n",
       "      <td>0</td>\n",
       "      <td>1083</td>\n",
       "      <td>0</td>\n",
       "      <td>0</td>\n",
       "    </tr>\n",
       "    <tr>\n",
       "      <th>1</th>\n",
       "      <td>1073</td>\n",
       "      <td>3212</td>\n",
       "      <td>587</td>\n",
       "      <td>1118847300100</td>\n",
       "      <td>20.025</td>\n",
       "      <td>2005.368</td>\n",
       "      <td>6452600.004</td>\n",
       "      <td>1872022.536</td>\n",
       "      <td>12.5</td>\n",
       "      <td>5</td>\n",
       "      <td>2</td>\n",
       "      <td>59.60</td>\n",
       "      <td>-4.46</td>\n",
       "      <td>2</td>\n",
       "      <td>0</td>\n",
       "      <td>1083</td>\n",
       "      <td>0</td>\n",
       "      <td>0</td>\n",
       "    </tr>\n",
       "    <tr>\n",
       "      <th>2</th>\n",
       "      <td>1073</td>\n",
       "      <td>3213</td>\n",
       "      <td>587</td>\n",
       "      <td>1118847300200</td>\n",
       "      <td>19.973</td>\n",
       "      <td>2011.314</td>\n",
       "      <td>6452604.649</td>\n",
       "      <td>1872018.817</td>\n",
       "      <td>12.5</td>\n",
       "      <td>5</td>\n",
       "      <td>2</td>\n",
       "      <td>59.14</td>\n",
       "      <td>-5.47</td>\n",
       "      <td>2</td>\n",
       "      <td>0</td>\n",
       "      <td>1083</td>\n",
       "      <td>0</td>\n",
       "      <td>0</td>\n",
       "    </tr>\n",
       "    <tr>\n",
       "      <th>3</th>\n",
       "      <td>1073</td>\n",
       "      <td>3214</td>\n",
       "      <td>587</td>\n",
       "      <td>1118847300300</td>\n",
       "      <td>19.886</td>\n",
       "      <td>2017.183</td>\n",
       "      <td>6452609.253</td>\n",
       "      <td>1872015.175</td>\n",
       "      <td>12.5</td>\n",
       "      <td>5</td>\n",
       "      <td>2</td>\n",
       "      <td>58.78</td>\n",
       "      <td>-2.54</td>\n",
       "      <td>2</td>\n",
       "      <td>0</td>\n",
       "      <td>1083</td>\n",
       "      <td>0</td>\n",
       "      <td>0</td>\n",
       "    </tr>\n",
       "    <tr>\n",
       "      <th>4</th>\n",
       "      <td>1073</td>\n",
       "      <td>3215</td>\n",
       "      <td>587</td>\n",
       "      <td>1118847300400</td>\n",
       "      <td>19.817</td>\n",
       "      <td>2023.016</td>\n",
       "      <td>6452613.792</td>\n",
       "      <td>1872011.563</td>\n",
       "      <td>12.5</td>\n",
       "      <td>5</td>\n",
       "      <td>2</td>\n",
       "      <td>58.78</td>\n",
       "      <td>2.52</td>\n",
       "      <td>2</td>\n",
       "      <td>0</td>\n",
       "      <td>1083</td>\n",
       "      <td>0</td>\n",
       "      <td>0</td>\n",
       "    </tr>\n",
       "    <tr>\n",
       "      <th>5</th>\n",
       "      <td>1073</td>\n",
       "      <td>3216</td>\n",
       "      <td>587</td>\n",
       "      <td>1118847300500</td>\n",
       "      <td>19.731</td>\n",
       "      <td>2028.885</td>\n",
       "      <td>6452618.396</td>\n",
       "      <td>1872007.921</td>\n",
       "      <td>12.5</td>\n",
       "      <td>5</td>\n",
       "      <td>2</td>\n",
       "      <td>59.14</td>\n",
       "      <td>5.47</td>\n",
       "      <td>2</td>\n",
       "      <td>0</td>\n",
       "      <td>1083</td>\n",
       "      <td>0</td>\n",
       "      <td>0</td>\n",
       "    </tr>\n",
       "    <tr>\n",
       "      <th>6</th>\n",
       "      <td>1073</td>\n",
       "      <td>3217</td>\n",
       "      <td>587</td>\n",
       "      <td>1118847300600</td>\n",
       "      <td>19.678</td>\n",
       "      <td>2034.831</td>\n",
       "      <td>6452623.041</td>\n",
       "      <td>1872004.202</td>\n",
       "      <td>12.5</td>\n",
       "      <td>5</td>\n",
       "      <td>2</td>\n",
       "      <td>59.60</td>\n",
       "      <td>4.46</td>\n",
       "      <td>2</td>\n",
       "      <td>0</td>\n",
       "      <td>1083</td>\n",
       "      <td>0</td>\n",
       "      <td>0</td>\n",
       "    </tr>\n",
       "    <tr>\n",
       "      <th>7</th>\n",
       "      <td>1073</td>\n",
       "      <td>3218</td>\n",
       "      <td>587</td>\n",
       "      <td>1118847300700</td>\n",
       "      <td>19.606</td>\n",
       "      <td>2040.831</td>\n",
       "      <td>6452627.759</td>\n",
       "      <td>1872000.448</td>\n",
       "      <td>12.5</td>\n",
       "      <td>5</td>\n",
       "      <td>2</td>\n",
       "      <td>59.91</td>\n",
       "      <td>1.71</td>\n",
       "      <td>2</td>\n",
       "      <td>0</td>\n",
       "      <td>1083</td>\n",
       "      <td>0</td>\n",
       "      <td>0</td>\n",
       "    </tr>\n",
       "    <tr>\n",
       "      <th>8</th>\n",
       "      <td>1073</td>\n",
       "      <td>3219</td>\n",
       "      <td>587</td>\n",
       "      <td>1118847300800</td>\n",
       "      <td>19.535</td>\n",
       "      <td>2046.858</td>\n",
       "      <td>6452632.453</td>\n",
       "      <td>1871996.712</td>\n",
       "      <td>12.5</td>\n",
       "      <td>5</td>\n",
       "      <td>2</td>\n",
       "      <td>59.90</td>\n",
       "      <td>-2.03</td>\n",
       "      <td>2</td>\n",
       "      <td>0</td>\n",
       "      <td>1083</td>\n",
       "      <td>0</td>\n",
       "      <td>0</td>\n",
       "    </tr>\n",
       "    <tr>\n",
       "      <th>9</th>\n",
       "      <td>1073</td>\n",
       "      <td>3220</td>\n",
       "      <td>587</td>\n",
       "      <td>1118847300900</td>\n",
       "      <td>19.464</td>\n",
       "      <td>2052.849</td>\n",
       "      <td>6452637.148</td>\n",
       "      <td>1871992.976</td>\n",
       "      <td>12.5</td>\n",
       "      <td>5</td>\n",
       "      <td>2</td>\n",
       "      <td>59.60</td>\n",
       "      <td>-3.95</td>\n",
       "      <td>2</td>\n",
       "      <td>0</td>\n",
       "      <td>1083</td>\n",
       "      <td>0</td>\n",
       "      <td>0</td>\n",
       "    </tr>\n",
       "  </tbody>\n",
       "</table>\n",
       "</div>"
      ],
      "text/plain": [
       "    vID  frID  tFr      Timestamp  localX    localY      globalX      globalY  \\\n",
       "0  1073  3211  587  1118847300000  20.097  1999.367  6452595.286  1872026.290   \n",
       "1  1073  3212  587  1118847300100  20.025  2005.368  6452600.004  1872022.536   \n",
       "2  1073  3213  587  1118847300200  19.973  2011.314  6452604.649  1872018.817   \n",
       "3  1073  3214  587  1118847300300  19.886  2017.183  6452609.253  1872015.175   \n",
       "4  1073  3215  587  1118847300400  19.817  2023.016  6452613.792  1872011.563   \n",
       "5  1073  3216  587  1118847300500  19.731  2028.885  6452618.396  1872007.921   \n",
       "6  1073  3217  587  1118847300600  19.678  2034.831  6452623.041  1872004.202   \n",
       "7  1073  3218  587  1118847300700  19.606  2040.831  6452627.759  1872000.448   \n",
       "8  1073  3219  587  1118847300800  19.535  2046.858  6452632.453  1871996.712   \n",
       "9  1073  3220  587  1118847300900  19.464  2052.849  6452637.148  1871992.976   \n",
       "\n",
       "   vLenght  vWidth  vType  veloc  accel  line  pred  foll  spac  headway  \n",
       "0     12.5       5      2  59.92  -1.71     2     0  1083     0        0  \n",
       "1     12.5       5      2  59.60  -4.46     2     0  1083     0        0  \n",
       "2     12.5       5      2  59.14  -5.47     2     0  1083     0        0  \n",
       "3     12.5       5      2  58.78  -2.54     2     0  1083     0        0  \n",
       "4     12.5       5      2  58.78   2.52     2     0  1083     0        0  \n",
       "5     12.5       5      2  59.14   5.47     2     0  1083     0        0  \n",
       "6     12.5       5      2  59.60   4.46     2     0  1083     0        0  \n",
       "7     12.5       5      2  59.91   1.71     2     0  1083     0        0  \n",
       "8     12.5       5      2  59.90  -2.03     2     0  1083     0        0  \n",
       "9     12.5       5      2  59.60  -3.95     2     0  1083     0        0  "
      ]
     },
     "execution_count": 5,
     "metadata": {},
     "output_type": "execute_result"
    }
   ],
   "source": [
    "data[:10]"
   ]
  },
  {
   "cell_type": "code",
   "execution_count": 6,
   "metadata": {
    "collapsed": false
   },
   "outputs": [
    {
     "data": {
      "text/plain": [
       "0    1073\n",
       "1    1073\n",
       "2    1073\n",
       "3    1073\n",
       "4    1073\n",
       "5    1073\n",
       "6    1073\n",
       "7    1073\n",
       "8    1073\n",
       "9    1073\n",
       "Name: vID, dtype: int64"
      ]
     },
     "execution_count": 6,
     "metadata": {},
     "output_type": "execute_result"
    }
   ],
   "source": [
    "data['vID'][:10]"
   ]
  },
  {
   "cell_type": "code",
   "execution_count": 7,
   "metadata": {
    "collapsed": false
   },
   "outputs": [
    {
     "data": {
      "text/plain": [
       "1280    600\n",
       "1284    598\n",
       "1309    593\n",
       "1290    591\n",
       "1325    586\n",
       "1314    584\n",
       "1337    581\n",
       "1274    579\n",
       "1348    577\n",
       "1354    567\n",
       "Name: vID, dtype: int64"
      ]
     },
     "execution_count": 7,
     "metadata": {},
     "output_type": "execute_result"
    }
   ],
   "source": [
    "vID_counts = data['vID'].value_counts()\n",
    "vID_counts[:10]"
   ]
  },
  {
   "cell_type": "code",
   "execution_count": 8,
   "metadata": {
    "collapsed": false
   },
   "outputs": [
    {
     "data": {
      "text/plain": [
       "<matplotlib.figure.Figure at 0x8090c18>"
      ]
     },
     "execution_count": 8,
     "metadata": {},
     "output_type": "execute_result"
    },
    {
     "data": {
      "text/plain": [
       "<matplotlib.figure.Figure at 0x8090c18>"
      ]
     },
     "metadata": {},
     "output_type": "display_data"
    }
   ],
   "source": [
    "plt.figure(figsize=(10, 4))"
   ]
  },
  {
   "cell_type": "code",
   "execution_count": 9,
   "metadata": {
    "collapsed": false
   },
   "outputs": [
    {
     "data": {
      "text/plain": [
       "<matplotlib.axes._subplots.AxesSubplot at 0x84e5630>"
      ]
     },
     "execution_count": 9,
     "metadata": {},
     "output_type": "execute_result"
    },
    {
     "data": {
      "image/png": "[encoded data removed]",
      "text/plain": [
       "<matplotlib.figure.Figure at 0x84e50b8>"
      ]
     },
     "metadata": {},
     "output_type": "display_data"
    }
   ],
   "source": [
    "vID_counts[:10].plot(kind='barh', rot=0)"
   ]
  },
  {
   "cell_type": "code",
   "execution_count": 10,
   "metadata": {
    "collapsed": true
   },
   "outputs": [],
   "source": [
    "vID_count = DataFrame({'count' : data.groupby(['vID']).size()}).reset_index()\n",
    "vID_mean = data.groupby('vID').mean()"
   ]
  },
  {
   "cell_type": "code",
   "execution_count": 11,
   "metadata": {
    "collapsed": false,
    "scrolled": true
   },
   "outputs": [
    {
     "data": {
      "text/html": [
       "<div>\n",
       "<table border=\"1\" class=\"dataframe\">\n",
       "  <thead>\n",
       "    <tr style=\"text-align: right;\">\n",
       "      <th></th>\n",
       "      <th>vID</th>\n",
       "      <th>count</th>\n",
       "    </tr>\n",
       "  </thead>\n",
       "  <tbody>\n",
       "    <tr>\n",
       "      <th>0</th>\n",
       "      <td>1073</td>\n",
       "      <td>22</td>\n",
       "    </tr>\n",
       "    <tr>\n",
       "      <th>1</th>\n",
       "      <td>1077</td>\n",
       "      <td>7</td>\n",
       "    </tr>\n",
       "    <tr>\n",
       "      <th>2</th>\n",
       "      <td>1080</td>\n",
       "      <td>28</td>\n",
       "    </tr>\n",
       "    <tr>\n",
       "      <th>3</th>\n",
       "      <td>1081</td>\n",
       "      <td>14</td>\n",
       "    </tr>\n",
       "    <tr>\n",
       "      <th>4</th>\n",
       "      <td>1082</td>\n",
       "      <td>31</td>\n",
       "    </tr>\n",
       "    <tr>\n",
       "      <th>5</th>\n",
       "      <td>1083</td>\n",
       "      <td>55</td>\n",
       "    </tr>\n",
       "    <tr>\n",
       "      <th>6</th>\n",
       "      <td>1084</td>\n",
       "      <td>46</td>\n",
       "    </tr>\n",
       "    <tr>\n",
       "      <th>7</th>\n",
       "      <td>1086</td>\n",
       "      <td>50</td>\n",
       "    </tr>\n",
       "    <tr>\n",
       "      <th>8</th>\n",
       "      <td>1087</td>\n",
       "      <td>12</td>\n",
       "    </tr>\n",
       "    <tr>\n",
       "      <th>9</th>\n",
       "      <td>1088</td>\n",
       "      <td>71</td>\n",
       "    </tr>\n",
       "  </tbody>\n",
       "</table>\n",
       "</div>"
      ],
      "text/plain": [
       "    vID  count\n",
       "0  1073     22\n",
       "1  1077      7\n",
       "2  1080     28\n",
       "3  1081     14\n",
       "4  1082     31\n",
       "5  1083     55\n",
       "6  1084     46\n",
       "7  1086     50\n",
       "8  1087     12\n",
       "9  1088     71"
      ]
     },
     "execution_count": 11,
     "metadata": {},
     "output_type": "execute_result"
    }
   ],
   "source": [
    "vID_count[:10]"
   ]
  },
  {
   "cell_type": "code",
   "execution_count": 12,
   "metadata": {
    "collapsed": false
   },
   "outputs": [],
   "source": [
    "veloc_mean = DataFrame({'mean_vel' : vID_mean['veloc']}).reset_index()"
   ]
  },
  {
   "cell_type": "code",
   "execution_count": 13,
   "metadata": {
    "collapsed": false
   },
   "outputs": [
    {
     "data": {
      "text/html": [
       "<div>\n",
       "<table border=\"1\" class=\"dataframe\">\n",
       "  <thead>\n",
       "    <tr style=\"text-align: right;\">\n",
       "      <th></th>\n",
       "      <th>vID</th>\n",
       "      <th>mean_vel</th>\n",
       "    </tr>\n",
       "  </thead>\n",
       "  <tbody>\n",
       "    <tr>\n",
       "      <th>0</th>\n",
       "      <td>1073</td>\n",
       "      <td>59.675000</td>\n",
       "    </tr>\n",
       "    <tr>\n",
       "      <th>1</th>\n",
       "      <td>1077</td>\n",
       "      <td>65.571429</td>\n",
       "    </tr>\n",
       "    <tr>\n",
       "      <th>2</th>\n",
       "      <td>1080</td>\n",
       "      <td>59.145357</td>\n",
       "    </tr>\n",
       "    <tr>\n",
       "      <th>3</th>\n",
       "      <td>1081</td>\n",
       "      <td>59.093571</td>\n",
       "    </tr>\n",
       "    <tr>\n",
       "      <th>4</th>\n",
       "      <td>1082</td>\n",
       "      <td>64.702581</td>\n",
       "    </tr>\n",
       "    <tr>\n",
       "      <th>5</th>\n",
       "      <td>1083</td>\n",
       "      <td>57.425818</td>\n",
       "    </tr>\n",
       "    <tr>\n",
       "      <th>6</th>\n",
       "      <td>1084</td>\n",
       "      <td>57.018043</td>\n",
       "    </tr>\n",
       "    <tr>\n",
       "      <th>7</th>\n",
       "      <td>1086</td>\n",
       "      <td>64.074800</td>\n",
       "    </tr>\n",
       "    <tr>\n",
       "      <th>8</th>\n",
       "      <td>1087</td>\n",
       "      <td>60.841667</td>\n",
       "    </tr>\n",
       "    <tr>\n",
       "      <th>9</th>\n",
       "      <td>1088</td>\n",
       "      <td>57.004366</td>\n",
       "    </tr>\n",
       "  </tbody>\n",
       "</table>\n",
       "</div>"
      ],
      "text/plain": [
       "    vID   mean_vel\n",
       "0  1073  59.675000\n",
       "1  1077  65.571429\n",
       "2  1080  59.145357\n",
       "3  1081  59.093571\n",
       "4  1082  64.702581\n",
       "5  1083  57.425818\n",
       "6  1084  57.018043\n",
       "7  1086  64.074800\n",
       "8  1087  60.841667\n",
       "9  1088  57.004366"
      ]
     },
     "execution_count": 13,
     "metadata": {},
     "output_type": "execute_result"
    }
   ],
   "source": [
    "veloc_mean[:10]"
   ]
  },
  {
   "cell_type": "code",
   "execution_count": 14,
   "metadata": {
    "collapsed": false
   },
   "outputs": [
    {
     "data": {
      "text/plain": [
       "pandas.core.frame.DataFrame"
      ]
     },
     "execution_count": 14,
     "metadata": {},
     "output_type": "execute_result"
    }
   ],
   "source": [
    "type(vID_count)"
   ]
  },
  {
   "cell_type": "code",
   "execution_count": 15,
   "metadata": {
    "collapsed": false
   },
   "outputs": [
    {
     "data": {
      "text/plain": [
       "pandas.core.frame.DataFrame"
      ]
     },
     "execution_count": 15,
     "metadata": {},
     "output_type": "execute_result"
    }
   ],
   "source": [
    "type(veloc_mean)"
   ]
  },
  {
   "cell_type": "code",
   "execution_count": 16,
   "metadata": {
    "collapsed": false
   },
   "outputs": [],
   "source": [
    "vehicles = pd.merge(vID_count,veloc_mean, on = 'vID')"
   ]
  },
  {
   "cell_type": "code",
   "execution_count": 17,
   "metadata": {
    "collapsed": false,
    "scrolled": true
   },
   "outputs": [
    {
     "data": {
      "text/html": [
       "<div>\n",
       "<table border=\"1\" class=\"dataframe\">\n",
       "  <thead>\n",
       "    <tr style=\"text-align: right;\">\n",
       "      <th></th>\n",
       "      <th>vID</th>\n",
       "      <th>count</th>\n",
       "      <th>mean_vel</th>\n",
       "    </tr>\n",
       "  </thead>\n",
       "  <tbody>\n",
       "    <tr>\n",
       "      <th>0</th>\n",
       "      <td>1073</td>\n",
       "      <td>22</td>\n",
       "      <td>59.675000</td>\n",
       "    </tr>\n",
       "    <tr>\n",
       "      <th>1</th>\n",
       "      <td>1077</td>\n",
       "      <td>7</td>\n",
       "      <td>65.571429</td>\n",
       "    </tr>\n",
       "    <tr>\n",
       "      <th>2</th>\n",
       "      <td>1080</td>\n",
       "      <td>28</td>\n",
       "      <td>59.145357</td>\n",
       "    </tr>\n",
       "    <tr>\n",
       "      <th>3</th>\n",
       "      <td>1081</td>\n",
       "      <td>14</td>\n",
       "      <td>59.093571</td>\n",
       "    </tr>\n",
       "    <tr>\n",
       "      <th>4</th>\n",
       "      <td>1082</td>\n",
       "      <td>31</td>\n",
       "      <td>64.702581</td>\n",
       "    </tr>\n",
       "    <tr>\n",
       "      <th>5</th>\n",
       "      <td>1083</td>\n",
       "      <td>55</td>\n",
       "      <td>57.425818</td>\n",
       "    </tr>\n",
       "    <tr>\n",
       "      <th>6</th>\n",
       "      <td>1084</td>\n",
       "      <td>46</td>\n",
       "      <td>57.018043</td>\n",
       "    </tr>\n",
       "    <tr>\n",
       "      <th>7</th>\n",
       "      <td>1086</td>\n",
       "      <td>50</td>\n",
       "      <td>64.074800</td>\n",
       "    </tr>\n",
       "    <tr>\n",
       "      <th>8</th>\n",
       "      <td>1087</td>\n",
       "      <td>12</td>\n",
       "      <td>60.841667</td>\n",
       "    </tr>\n",
       "    <tr>\n",
       "      <th>9</th>\n",
       "      <td>1088</td>\n",
       "      <td>71</td>\n",
       "      <td>57.004366</td>\n",
       "    </tr>\n",
       "  </tbody>\n",
       "</table>\n",
       "</div>"
      ],
      "text/plain": [
       "    vID  count   mean_vel\n",
       "0  1073     22  59.675000\n",
       "1  1077      7  65.571429\n",
       "2  1080     28  59.145357\n",
       "3  1081     14  59.093571\n",
       "4  1082     31  64.702581\n",
       "5  1083     55  57.425818\n",
       "6  1084     46  57.018043\n",
       "7  1086     50  64.074800\n",
       "8  1087     12  60.841667\n",
       "9  1088     71  57.004366"
      ]
     },
     "execution_count": 17,
     "metadata": {},
     "output_type": "execute_result"
    }
   ],
   "source": [
    "vehicles[:10]"
   ]
  },
  {
   "cell_type": "code",
   "execution_count": 21,
   "metadata": {
    "collapsed": false
   },
   "outputs": [
    {
     "data": {
      "text/plain": [
       "600"
      ]
     },
     "execution_count": 21,
     "metadata": {},
     "output_type": "execute_result"
    }
   ],
   "source": [
    "max(vehicles['count'])"
   ]
  },
  {
   "cell_type": "code",
   "execution_count": 25,
   "metadata": {
    "collapsed": false
   },
   "outputs": [
    {
     "data": {
      "text/html": [
       "<div>\n",
       "<table border=\"1\" class=\"dataframe\">\n",
       "  <thead>\n",
       "    <tr style=\"text-align: right;\">\n",
       "      <th></th>\n",
       "      <th>vID</th>\n",
       "      <th>count</th>\n",
       "      <th>mean_vel</th>\n",
       "    </tr>\n",
       "  </thead>\n",
       "  <tbody>\n",
       "    <tr>\n",
       "      <th>185</th>\n",
       "      <td>1280</td>\n",
       "      <td>600</td>\n",
       "      <td>35.009233</td>\n",
       "    </tr>\n",
       "  </tbody>\n",
       "</table>\n",
       "</div>"
      ],
      "text/plain": [
       "      vID  count   mean_vel\n",
       "185  1280    600  35.009233"
      ]
     },
     "execution_count": 25,
     "metadata": {},
     "output_type": "execute_result"
    }
   ],
   "source": [
    "vehicles.loc[vehicles['count'] == 600]"
   ]
  },
  {
   "cell_type": "code",
   "execution_count": 27,
   "metadata": {
    "collapsed": false
   },
   "outputs": [],
   "source": [
    "v1280 = data.loc[data['vID'] == 1280]"
   ]
  },
  {
   "cell_type": "code",
   "execution_count": 33,
   "metadata": {
    "collapsed": false
   },
   "outputs": [],
   "source": [
    "v1280group = v1280.groupby('pred').count()"
   ]
  },
  {
   "cell_type": "code",
   "execution_count": 34,
   "metadata": {
    "collapsed": false
   },
   "outputs": [
    {
     "data": {
      "text/html": [
       "<div>\n",
       "<table border=\"1\" class=\"dataframe\">\n",
       "  <thead>\n",
       "    <tr style=\"text-align: right;\">\n",
       "      <th></th>\n",
       "      <th>vID</th>\n",
       "      <th>frID</th>\n",
       "      <th>tFr</th>\n",
       "      <th>Timestamp</th>\n",
       "      <th>localX</th>\n",
       "      <th>localY</th>\n",
       "      <th>globalX</th>\n",
       "      <th>globalY</th>\n",
       "      <th>vLenght</th>\n",
       "      <th>vWidth</th>\n",
       "      <th>vType</th>\n",
       "      <th>veloc</th>\n",
       "      <th>accel</th>\n",
       "      <th>line</th>\n",
       "      <th>foll</th>\n",
       "      <th>spac</th>\n",
       "      <th>headway</th>\n",
       "    </tr>\n",
       "    <tr>\n",
       "      <th>pred</th>\n",
       "      <th></th>\n",
       "      <th></th>\n",
       "      <th></th>\n",
       "      <th></th>\n",
       "      <th></th>\n",
       "      <th></th>\n",
       "      <th></th>\n",
       "      <th></th>\n",
       "      <th></th>\n",
       "      <th></th>\n",
       "      <th></th>\n",
       "      <th></th>\n",
       "      <th></th>\n",
       "      <th></th>\n",
       "      <th></th>\n",
       "      <th></th>\n",
       "      <th></th>\n",
       "    </tr>\n",
       "  </thead>\n",
       "  <tbody>\n",
       "    <tr>\n",
       "      <th>0</th>\n",
       "      <td>45</td>\n",
       "      <td>45</td>\n",
       "      <td>45</td>\n",
       "      <td>45</td>\n",
       "      <td>45</td>\n",
       "      <td>45</td>\n",
       "      <td>45</td>\n",
       "      <td>45</td>\n",
       "      <td>45</td>\n",
       "      <td>45</td>\n",
       "      <td>45</td>\n",
       "      <td>45</td>\n",
       "      <td>45</td>\n",
       "      <td>45</td>\n",
       "      <td>45</td>\n",
       "      <td>45</td>\n",
       "      <td>45</td>\n",
       "    </tr>\n",
       "    <tr>\n",
       "      <th>1274</th>\n",
       "      <td>555</td>\n",
       "      <td>555</td>\n",
       "      <td>555</td>\n",
       "      <td>555</td>\n",
       "      <td>555</td>\n",
       "      <td>555</td>\n",
       "      <td>555</td>\n",
       "      <td>555</td>\n",
       "      <td>555</td>\n",
       "      <td>555</td>\n",
       "      <td>555</td>\n",
       "      <td>555</td>\n",
       "      <td>555</td>\n",
       "      <td>555</td>\n",
       "      <td>555</td>\n",
       "      <td>555</td>\n",
       "      <td>555</td>\n",
       "    </tr>\n",
       "  </tbody>\n",
       "</table>\n",
       "</div>"
      ],
      "text/plain": [
       "      vID  frID  tFr  Timestamp  localX  localY  globalX  globalY  vLenght  \\\n",
       "pred                                                                         \n",
       "0      45    45   45         45      45      45       45       45       45   \n",
       "1274  555   555  555        555     555     555      555      555      555   \n",
       "\n",
       "      vWidth  vType  veloc  accel  line  foll  spac  headway  \n",
       "pred                                                          \n",
       "0         45     45     45     45    45    45    45       45  \n",
       "1274     555    555    555    555   555   555   555      555  "
      ]
     },
     "execution_count": 34,
     "metadata": {},
     "output_type": "execute_result"
    }
   ],
   "source": [
    "v1280group"
   ]
  },
  {
   "cell_type": "code",
   "execution_count": null,
   "metadata": {
    "collapsed": true
   },
   "outputs": [],
   "source": []
  },
  {
   "cell_type": "code",
   "execution_count": 17,
   "metadata": {
    "collapsed": true
   },
   "outputs": [],
   "source": [
    "np.savetxt('D:\\\\zzzLola\\\\PhD\\\\DataSet\\\\US101\\\\test\\\\vehi_small.txt',vehicles, fmt='%.10e', delimiter='\\t', newline='\\n')"
   ]
  }
 ],
 "metadata": {
  "kernelspec": {
   "display_name": "Python 2",
   "language": "python",
   "name": "python2"
  },
  "language_info": {
   "codemirror_mode": {
    "name": "ipython",
    "version": 2
   },
   "file_extension": ".py",
   "mimetype": "text/x-python",
   "name": "python",
   "nbconvert_exporter": "python",
   "pygments_lexer": "ipython2",
   "version": "2.7.11"
  }
 },
 "nbformat": 4,
 "nbformat_minor": 0
}
