{
 "cells": [
  {
   "cell_type": "code",
   "execution_count": null,
   "metadata": {
    "collapsed": true
   },
   "outputs": [],
   "source": [
    "import math  \n",
    "import numpy as np\n",
    "import panda as pd\n",
    "\n",
    "\n",
    "def calculateDistance(x1,y1,x2,y2):  \n",
    "     dist = math.sqrt((x2 - x1)**2 + (y2 - y1)**2)  \n",
    "     return dist  \n",
    "print calculateDistance(x1, y1, x2, y2) \n",
    "\n",
    "\n",
    "data = np.loadtxt(yourFileName,skiprows=n)\n",
    "\n",
    "\n",
    "\n",
    "\n",
    "df = pd.read_csv('your_file',sep='\\t')\n",
    "arr = np.array(df)"
   ]
  }
 ],
 "metadata": {
  "kernelspec": {
   "display_name": "Python 2",
   "language": "python",
   "name": "python2"
  },
  "language_info": {
   "codemirror_mode": {
    "name": "ipython",
    "version": 2
   },
   "file_extension": ".py",
   "mimetype": "text/x-python",
   "name": "python",
   "nbconvert_exporter": "python",
   "pygments_lexer": "ipython2",
   "version": "2.7.11"
  }
 },
 "nbformat": 4,
 "nbformat_minor": 0
}
